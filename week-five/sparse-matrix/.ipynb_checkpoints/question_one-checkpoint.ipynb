{
 "cells": [
  {
   "cell_type": "markdown",
   "id": "046a79d6-ffc2-4978-ad3d-f2eebae06832",
   "metadata": {},
   "source": [
    "# Spare Matrix\n",
    "by Shahid Hussain"
   ]
  },
  {
   "cell_type": "code",
   "execution_count": 47,
   "id": "2c474f13-4bc6-4e3e-8618-81f0f79faca5",
   "metadata": {},
   "outputs": [
    {
     "name": "stdout",
     "output_type": "stream",
     "text": [
      "        I    J                     V\n",
      "0       1    1   1.0000000000000e-01\n",
      "1       8    1  -1.6799998000000e-01\n",
      "2       9    1  -1.2999999000000e-01\n",
      "3      10    1   4.7999993000000e-01\n",
      "4      11    1   3.8999999000000e-01\n",
      "...   ...  ...                   ...\n",
      "2904    6  276   1.0000000000000e-01\n",
      "2905  197  276   1.0000000000000e-01\n",
      "2906  206  276  -1.0000000000000e-01\n",
      "2907    5  277  -1.0000000000000e-01\n",
      "2908  207  277  -1.0000000000000e-01\n",
      "\n",
      "[2909 rows x 3 columns]\n"
     ]
    },
    {
     "data": {
      "text/html": [
       "<div>\n",
       "<style scoped>\n",
       "    .dataframe tbody tr th:only-of-type {\n",
       "        vertical-align: middle;\n",
       "    }\n",
       "\n",
       "    .dataframe tbody tr th {\n",
       "        vertical-align: top;\n",
       "    }\n",
       "\n",
       "    .dataframe thead th {\n",
       "        text-align: right;\n",
       "    }\n",
       "</style>\n",
       "<table border=\"1\" class=\"dataframe\">\n",
       "  <thead>\n",
       "    <tr style=\"text-align: right;\">\n",
       "      <th></th>\n",
       "      <th>I</th>\n",
       "      <th>J</th>\n",
       "      <th>V</th>\n",
       "    </tr>\n",
       "  </thead>\n",
       "  <tbody>\n",
       "    <tr>\n",
       "      <th>0</th>\n",
       "      <td>0.0</td>\n",
       "      <td>0.0</td>\n",
       "      <td>1.0000000000000e-01</td>\n",
       "    </tr>\n",
       "    <tr>\n",
       "      <th>1</th>\n",
       "      <td>7.0</td>\n",
       "      <td>0.0</td>\n",
       "      <td>-1.6799998000000e-01</td>\n",
       "    </tr>\n",
       "    <tr>\n",
       "      <th>2</th>\n",
       "      <td>8.0</td>\n",
       "      <td>0.0</td>\n",
       "      <td>-1.2999999000000e-01</td>\n",
       "    </tr>\n",
       "    <tr>\n",
       "      <th>3</th>\n",
       "      <td>9.0</td>\n",
       "      <td>0.0</td>\n",
       "      <td>4.7999993000000e-01</td>\n",
       "    </tr>\n",
       "    <tr>\n",
       "      <th>4</th>\n",
       "      <td>10.0</td>\n",
       "      <td>0.0</td>\n",
       "      <td>3.8999999000000e-01</td>\n",
       "    </tr>\n",
       "    <tr>\n",
       "      <th>...</th>\n",
       "      <td>...</td>\n",
       "      <td>...</td>\n",
       "      <td>...</td>\n",
       "    </tr>\n",
       "    <tr>\n",
       "      <th>2904</th>\n",
       "      <td>5.0</td>\n",
       "      <td>275.0</td>\n",
       "      <td>1.0000000000000e-01</td>\n",
       "    </tr>\n",
       "    <tr>\n",
       "      <th>2905</th>\n",
       "      <td>196.0</td>\n",
       "      <td>275.0</td>\n",
       "      <td>1.0000000000000e-01</td>\n",
       "    </tr>\n",
       "    <tr>\n",
       "      <th>2906</th>\n",
       "      <td>205.0</td>\n",
       "      <td>275.0</td>\n",
       "      <td>-1.0000000000000e-01</td>\n",
       "    </tr>\n",
       "    <tr>\n",
       "      <th>2907</th>\n",
       "      <td>4.0</td>\n",
       "      <td>276.0</td>\n",
       "      <td>-1.0000000000000e-01</td>\n",
       "    </tr>\n",
       "    <tr>\n",
       "      <th>2908</th>\n",
       "      <td>206.0</td>\n",
       "      <td>276.0</td>\n",
       "      <td>-1.0000000000000e-01</td>\n",
       "    </tr>\n",
       "  </tbody>\n",
       "</table>\n",
       "<p>2909 rows × 3 columns</p>\n",
       "</div>"
      ],
      "text/plain": [
       "          I      J                     V\n",
       "0       0.0    0.0   1.0000000000000e-01\n",
       "1       7.0    0.0  -1.6799998000000e-01\n",
       "2       8.0    0.0  -1.2999999000000e-01\n",
       "3       9.0    0.0   4.7999993000000e-01\n",
       "4      10.0    0.0   3.8999999000000e-01\n",
       "...     ...    ...                   ...\n",
       "2904    5.0  275.0   1.0000000000000e-01\n",
       "2905  196.0  275.0   1.0000000000000e-01\n",
       "2906  205.0  275.0  -1.0000000000000e-01\n",
       "2907    4.0  276.0  -1.0000000000000e-01\n",
       "2908  206.0  276.0  -1.0000000000000e-01\n",
       "\n",
       "[2909 rows x 3 columns]"
      ]
     },
     "execution_count": 47,
     "metadata": {},
     "output_type": "execute_result"
    }
   ],
   "source": [
    "import pandas as pd\n",
    "import numpy as np \n",
    "df = pd.read_csv('./wm1.dat.txt', header=None)\n",
    "df = df[0].str.split(expand=True)\n",
    "df.columns = ['I', 'J', 'V']\n",
    "\n",
    "print(df)\n",
    "\n",
    "#Shift I and J by -1 \n",
    "df['I'] = df['I'].apply(lambda x: float(x) - 1)\n",
    "df['J'] = df['J'].apply(lambda x:float(x) - 1)\n",
    "df\n"
   ]
  },
  {
   "cell_type": "code",
   "execution_count": 50,
   "id": "ee842265-434e-4ece-a63d-ea7c9c1bd1eb",
   "metadata": {},
   "outputs": [
    {
     "ename": "NameError",
     "evalue": "name 'V' is not defined",
     "output_type": "error",
     "traceback": [
      "\u001b[0;31m---------------------------------------------------------------------------\u001b[0m",
      "\u001b[0;31mNameError\u001b[0m                                 Traceback (most recent call last)",
      "Cell \u001b[0;32mIn[50], line 3\u001b[0m\n\u001b[1;32m      1\u001b[0m \u001b[38;5;66;03m# create a sparse Array \u001b[39;00m\n\u001b[1;32m      2\u001b[0m \u001b[38;5;28;01mimport\u001b[39;00m \u001b[38;5;21;01mscipy\u001b[39;00m \n\u001b[0;32m----> 3\u001b[0m A \u001b[38;5;241m=\u001b[39m scipy\u001b[38;5;241m.\u001b[39msparse\u001b[38;5;241m.\u001b[39mcsr_matrix((V, (I,J)))\u001b[38;5;241m.\u001b[39mT\n",
      "\u001b[0;31mNameError\u001b[0m: name 'V' is not defined"
     ]
    }
   ],
   "source": [
    "# create a sparse Array \n",
    "import scipy \n",
    "A = scipy.sparse.csr_matrix((df['V'], (df['I',df['J']))).T\n"
   ]
  }
 ],
 "metadata": {
  "kernelspec": {
   "display_name": "Python 3 (ipykernel)",
   "language": "python",
   "name": "python3"
  },
  "language_info": {
   "codemirror_mode": {
    "name": "ipython",
    "version": 3
   },
   "file_extension": ".py",
   "mimetype": "text/x-python",
   "name": "python",
   "nbconvert_exporter": "python",
   "pygments_lexer": "ipython3",
   "version": "3.11.5"
  }
 },
 "nbformat": 4,
 "nbformat_minor": 5
}
