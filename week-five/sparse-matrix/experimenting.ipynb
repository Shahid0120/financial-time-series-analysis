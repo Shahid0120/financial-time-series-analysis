{
 "cells": [
  {
   "cell_type": "code",
   "execution_count": 9,
   "id": "8a54ce7f-5cc2-4175-a9cf-8bf70af418cd",
   "metadata": {},
   "outputs": [
    {
     "name": "stdout",
     "output_type": "stream",
     "text": [
      "[0 1 2 0 2 0 2]\n"
     ]
    }
   ],
   "source": [
    "import numpy as np\n",
    "from scipy.sparse import csr_matrix \n",
    "\n",
    "arr = np.array([[1, 1, 1], [1, 0, 1], [1, 0, 2]]) \n",
    "\n",
    "print(csr_matrix(arr).)"
   ]
  },
  {
   "cell_type": "code",
   "execution_count": 15,
   "id": "dec22b6a-7d08-4d3c-9a3a-ada6c47781c2",
   "metadata": {},
   "outputs": [
    {
     "name": "stdout",
     "output_type": "stream",
     "text": [
      "  (1, 2)\t1\n",
      "  (2, 0)\t1\n",
      "  (2, 2)\t2\n"
     ]
    }
   ],
   "source": [
    "arr = np.array([[0, 0, 0], [0, 0, 1], [1, 0, 2]]) \n",
    "\n",
    "mat = csr_matrix(arr)\n",
    "mat.eliminate_zeros()\n",
    "print(mat)"
   ]
  },
  {
   "cell_type": "code",
   "execution_count": 16,
   "id": "37dd6928-48b1-4c6a-be12-70eda0fcf222",
   "metadata": {},
   "outputs": [
    {
     "name": "stdout",
     "output_type": "stream",
     "text": [
      "Before eliminate_zeros:\n",
      "  (0, 0)\t1\n",
      "  (1, 1)\t2\n",
      "  (2, 2)\t3\n",
      "After eliminate_zeros:\n",
      "  (0, 0)\t1\n",
      "  (1, 1)\t2\n",
      "  (2, 2)\t3\n"
     ]
    }
   ],
   "source": [
    "arr = [\n",
    "    [1, 0, 0],\n",
    "    [0, 2, 0],\n",
    "    [0, 0, 3]\n",
    "]\n",
    "\n",
    "# Converting the dense array to a sparse CSR matrix\n",
    "mat = csr_matrix(arr)\n",
    "\n",
    "# Print the sparse matrix before eliminating zeros\n",
    "print(\"Before eliminate_zeros:\")\n",
    "print(mat)\n",
    "\n",
    "# Eliminate explicit zeros\n",
    "mat.eliminate_zeros()\n",
    "\n",
    "# Print the sparse matrix after eliminating zeros\n",
    "print(\"After eliminate_zeros:\")\n",
    "print(mat)"
   ]
  },
  {
   "cell_type": "code",
   "execution_count": 22,
   "id": "563665eb-165a-4b85-a550-eedbb70fcdab",
   "metadata": {},
   "outputs": [
    {
     "name": "stdout",
     "output_type": "stream",
     "text": [
      "  (1, 2)\t1\n",
      "  (2, 0)\t1\n",
      "  (2, 2)\t2\n",
      "\n",
      "\n",
      "  (1, 2)\t1\n",
      "  (2, 0)\t1\n",
      "  (2, 2)\t2\n"
     ]
    }
   ],
   "source": [
    "import numpy as np\n",
    "from scipy.sparse import csr_matrix\n",
    "\n",
    "arr = np.array([[0, 0, 0], [0, 0, 1], [1, 0, 2]])\n",
    "\n",
    "mat = csr_matrix(arr)\n",
    "print(mat)\n",
    "print('\\n')\n",
    "mat.sum_duplicates()\n",
    "\n",
    "print(mat)"
   ]
  }
 ],
 "metadata": {
  "kernelspec": {
   "display_name": "Python 3 (ipykernel)",
   "language": "python",
   "name": "python3"
  },
  "language_info": {
   "codemirror_mode": {
    "name": "ipython",
    "version": 3
   },
   "file_extension": ".py",
   "mimetype": "text/x-python",
   "name": "python",
   "nbconvert_exporter": "python",
   "pygments_lexer": "ipython3",
   "version": "3.11.5"
  }
 },
 "nbformat": 4,
 "nbformat_minor": 5
}
