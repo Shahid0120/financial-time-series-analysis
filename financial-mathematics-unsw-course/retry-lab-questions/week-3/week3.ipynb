{
 "cells": [
  {
   "cell_type": "code",
   "execution_count": 83,
   "id": "4b875891-3312-4e2f-bf7b-a83a4760e280",
   "metadata": {},
   "outputs": [
    {
     "name": "stdout",
     "output_type": "stream",
     "text": [
      "the detterminant using K and Chol R is both 0, however the det using eig value since K is real and symetir |emax|/|emin| != 0\n",
      "cleary since the {sum_diag} approx 500 which is the size of the max thus K \n"
     ]
    }
   ],
   "source": [
    "# Question one \n",
    "import numpy as np \n",
    "import scipy \n",
    "import matplotlib.pyplot as plt \n",
    "from mat2npy import K\n",
    "# a\n",
    "#print(np.shape(K))\n",
    "# b\n",
    "#print(np.linalg.norm(K.T - K, 2))\n",
    "# c\n",
    "R = scipy.linalg.cholesky(K)\n",
    "#print(\"Cleary since scipy.linalg.cholesky thus K must be positive deinfied, since cholesky requirements is that K must be symetric and positive definite\")\n",
    "eig = scipy.linalg.eigvals(K)\n",
    "# d\n",
    "eig_max = eig.max()\n",
    "eig_min = eig.min()\n",
    "# e \n",
    "det = scipy.linalg.det(K)\n",
    "det_R = scipy.linalg.det(R)\n",
    "det_chol = det_R * det_R\n",
    "eig_det = np.abs(eig_max) / np.abs(eig.min())\n",
    "print(\"the detterminant using K and Chol R is both 0, however the det using eig value since K is real and symetir |emax|/|emin| != 0\")\n",
    "# f\n",
    "# since it is correlation matrix all the diagonals should equal zero \n",
    "diag = np.diag(K)\n",
    "sum_diag = diag.sum()\n",
    "print(\"cleary since the {sum_diag} approx 500 which is the size of the max thus K \")\n",
    "# g\n",
    "max = 0\n",
    "min = 1.5\n",
    "for row in range(0, len(K)):\n",
    "    for col in range(0, len(K)):\n",
    "        if float(K[row][col]) > float(max):\n",
    "            max =  K[row][col]\n",
    "        if float(K[row][col]) < float(min):\n",
    "           min = K[row][col]\n",
    "# i \n",
    "# since all \n",
    "num_eig = len(eig)\n",
    "# since num_eig == 500 whichi s the number of columsn thus the rank(K) = 500 = col so since all eigvalues > 0 thus K is nonsingualr and inverse must exist \n",
    "K_inv = scipy.linalg.inv(K)\n",
    "# j \n",
    "# thus is quadratic form so using sum(1/lamda * ||b||^2_2)\n"
   ]
  },
  {
   "cell_type": "code",
   "execution_count": null,
   "id": "7fd3d73d-dfc1-47bc-b1aa-4cb0a8b1ca20",
   "metadata": {},
   "outputs": [],
   "source": []
  }
 ],
 "metadata": {
  "kernelspec": {
   "display_name": "Python 3 (ipykernel)",
   "language": "python",
   "name": "python3"
  },
  "language_info": {
   "codemirror_mode": {
    "name": "ipython",
    "version": 3
   },
   "file_extension": ".py",
   "mimetype": "text/x-python",
   "name": "python",
   "nbconvert_exporter": "python",
   "pygments_lexer": "ipython3",
   "version": "3.12.2"
  }
 },
 "nbformat": 4,
 "nbformat_minor": 5
}
