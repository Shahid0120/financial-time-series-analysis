{
 "cells": [
  {
   "cell_type": "markdown",
   "id": "93ce49d6-696e-4b78-a797-7bbafecfd756",
   "metadata": {},
   "source": [
    "# Week 2 "
   ]
  },
  {
   "cell_type": "markdown",
   "id": "6c652aa2-ce3a-40da-9ac1-16ef1d3e80fa",
   "metadata": {},
   "source": [
    "# Question 1 \n",
    "\n",
    "a - 38\n",
    "\n",
    "b - sqrt(316)\n",
    "\n",
    "c - 12 \n"
   ]
  },
  {
   "cell_type": "code",
   "execution_count": 14,
   "id": "c6643ced-370f-42da-81c1-f014da2e870a",
   "metadata": {},
   "outputs": [
    {
     "name": "stdout",
     "output_type": "stream",
     "text": [
      "38.0\n",
      "17.776388834631177\n",
      "12.0\n"
     ]
    }
   ],
   "source": [
    "import numpy as np\n",
    "import scipy \n",
    "import matplotlib.pyplot as plt \n",
    "x = [-9, 5, 1, -4, 12, -7] \n",
    "x_1_norm = np.linalg.norm(x, 1)\n",
    "x_2 = np.linalg.norm(x, 2)\n",
    "x_inf = np.linalg.norm(x, np.inf)\n",
    "print(x_1_norm)\n",
    "print(x_2)\n",
    "print(x_inf)"
   ]
  },
  {
   "cell_type": "code",
   "execution_count": 108,
   "id": "ea049176-a07d-474d-8bb0-92ffc563de8c",
   "metadata": {},
   "outputs": [
    {
     "name": "stdout",
     "output_type": "stream",
     "text": [
      "True\n"
     ]
    }
   ],
   "source": [
    "# Question 6\n",
    "from numpy import maximum, any, finfo, float32, float64, ndarray \n",
    "def symchk(A, tol=None):\n",
    "    symetric = True\n",
    "\n",
    "    if np.shape(A)[0] != np.shape(A)[1]:\n",
    "        symetric = False\n",
    "    else:\n",
    "        A_t = A.T\n",
    "        # check tol is given\n",
    "        if tol == None:\n",
    "            tol = 10 * np.shape(A)[0]**2 * finfo(float64).eps\n",
    "\n",
    "        # check symetry\n",
    "        for row_index in range(0, len(A)):\n",
    "            for column_index in range(0, len(A)):\n",
    "                entry_max = np.max((np.abs(A[row_index, column_index]), np.abs(A_t[row_index, column_index])))\n",
    "                if np.abs(A[row_index, column_index] - A_t[row_index, column_index]) > tol*entry_max:\n",
    "                    symetric = False\n",
    "    \n",
    "    return symetric\n",
    "\n",
    "A = np.array([[1,2],[2,1]])\n",
    "sym = symchk(A, tol=None)\n",
    "print(sym)\n",
    "    "
   ]
  },
  {
   "cell_type": "code",
   "execution_count": null,
   "id": "8c5cb500-69ff-4cf0-99fa-1ec1131537c6",
   "metadata": {},
   "outputs": [],
   "source": [
    "# Question 4\n"
   ]
  }
 ],
 "metadata": {
  "kernelspec": {
   "display_name": "Python 3 (ipykernel)",
   "language": "python",
   "name": "python3"
  },
  "language_info": {
   "codemirror_mode": {
    "name": "ipython",
    "version": 3
   },
   "file_extension": ".py",
   "mimetype": "text/x-python",
   "name": "python",
   "nbconvert_exporter": "python",
   "pygments_lexer": "ipython3",
   "version": "3.12.2"
  }
 },
 "nbformat": 4,
 "nbformat_minor": 5
}
