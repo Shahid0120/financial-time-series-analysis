{
 "cells": [
  {
   "cell_type": "code",
   "execution_count": 3,
   "id": "0f82b5d6-2765-4715-94a3-5f04147a1823",
   "metadata": {},
   "outputs": [
    {
     "data": {
      "text/plain": [
       "17.40246584314141"
      ]
     },
     "execution_count": 3,
     "metadata": {},
     "output_type": "execute_result"
    }
   ],
   "source": [
    "# Question 5 \n",
    "import numpy as np \n",
    "import scipy \n",
    "\n",
    "f = lambda x : 2 + x + x**2\n",
    "N = 10**2\n",
    "a = 0\n",
    "b = 1\n",
    "x = 1/N * np.arange(0, N)\n",
    "d1 = np.ones(N-1)\n",
    "d0 = (-2 + 1/(N**2)) * np.ones(N)\n",
    "d0[0] = 0\n",
    "d2 = np.ones(N-1)\n",
    "b = 1/(N**2) * f(x) * np.ones(N)\n",
    "b[0] = 2/N\n",
    "A = np.diag(d1, -1) + np.diag(d0) + np.diag(d2, 1)\n",
    "# Ax = b \n",
    "U = scipy.linalg.solve(A, b)\n",
    "u = lambda x: np.sin(x) + x + x**2\n",
    "Uerr = np.linalg.norm(U - u(x))\n",
    "Uerr"
   ]
  }
 ],
 "metadata": {
  "kernelspec": {
   "display_name": "Python 3 (ipykernel)",
   "language": "python",
   "name": "python3"
  },
  "language_info": {
   "codemirror_mode": {
    "name": "ipython",
    "version": 3
   },
   "file_extension": ".py",
   "mimetype": "text/x-python",
   "name": "python",
   "nbconvert_exporter": "python",
   "pygments_lexer": "ipython3",
   "version": "3.12.4"
  }
 },
 "nbformat": 4,
 "nbformat_minor": 5
}
