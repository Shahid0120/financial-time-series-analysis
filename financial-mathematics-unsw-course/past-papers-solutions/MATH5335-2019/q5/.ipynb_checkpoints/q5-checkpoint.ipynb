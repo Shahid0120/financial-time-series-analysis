{
 "cells": [
  {
   "cell_type": "code",
   "execution_count": 63,
   "id": "0f82b5d6-2765-4715-94a3-5f04147a1823",
   "metadata": {},
   "outputs": [],
   "source": [
    "# Question 5 \n",
    "import numpy as np \n",
    "import scipy \n",
    "\n",
    "f = lambda x : 2 + x + x**2\n",
    "N = 10**2\n",
    "a = 0\n",
    "b = 1\n",
    "x = 1/N * np.arange(0, N)\n",
    "d1 = np.ones(N-1)\n",
    "d0 = (-2 + 1/(N**2)) * np.ones(N)\n",
    "d0[0] = 0\n",
    "d2 = np.ones(N-1)\n",
    "b = 1/(N**2) * f(x) * np.ones(N)\n",
    "b[0] = 2/N\n",
    "A = np.diag(d1, -1) + np.diag(d0) + np.diag(d2, 1)\n",
    "# Ax = b \n",
    "U = scipy.linalg.solve(A, b)\n",
    "u = lambda x: np.sin(x) + x + x**2\n",
    "np.linalg.norm(U - u(x))\n"
   ]
  },
  {
   "cell_type": "code",
   "execution_count": 51,
   "id": "52c57945-871c-479e-b249-d8ddff1addec",
   "metadata": {},
   "outputs": [
    {
     "name": "stdout",
     "output_type": "stream",
     "text": [
      "[[ 3.     -4.      1.      0.    ]\n",
      " [ 1.     -2.0625  1.      0.    ]\n",
      " [ 0.      1.     -2.0625  1.    ]\n",
      " [ 0.      0.      1.     -2.0625]]\n"
     ]
    }
   ],
   "source": [
    "from numpy.linalg import solve, norm\n",
    "from numpy import diag, cos, log, ones, zeros, pi, inf\n",
    "from numpy import linspace\n",
    "N=4\n",
    "x = linspace(0,1,N+1)\n",
    "U4 = zeros(N)\n",
    "h=1/N\n",
    "d1=ones(N-1)\n",
    "d4=ones(N-1)\n",
    "d1[0]=-4\n",
    "d2=zeros(N-2)\n",
    "d2[0]=1\n",
    "d3=ones(N)*(-2-h**2)\n",
    "d3[0]=3\n",
    "A=diag(d1,1)+diag(d4,-1)+diag(d3)+diag(d2,2)\n",
    "print(A)\n",
    "a=zeros(N)\n",
    "a[1:]=h**2*(1+pi**2/4)*cos(pi+pi/2*x[1:N])\n",
    "U4=solve(A,a)"
   ]
  }
 ],
 "metadata": {
  "kernelspec": {
   "display_name": "Python 3 (ipykernel)",
   "language": "python",
   "name": "python3"
  },
  "language_info": {
   "codemirror_mode": {
    "name": "ipython",
    "version": 3
   },
   "file_extension": ".py",
   "mimetype": "text/x-python",
   "name": "python",
   "nbconvert_exporter": "python",
   "pygments_lexer": "ipython3",
   "version": "3.12.4"
  }
 },
 "nbformat": 4,
 "nbformat_minor": 5
}
