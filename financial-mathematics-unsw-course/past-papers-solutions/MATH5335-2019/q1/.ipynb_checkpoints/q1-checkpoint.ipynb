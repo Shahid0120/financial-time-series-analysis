{
 "cells": [
  {
   "cell_type": "code",
   "execution_count": 45,
   "id": "d42b51e8-1052-48a2-a0b9-3adb01710e31",
   "metadata": {},
   "outputs": [
    {
     "data": {
      "text/plain": [
       "6.176193736595544e-14"
      ]
     },
     "execution_count": 45,
     "metadata": {},
     "output_type": "execute_result"
    }
   ],
   "source": [
    "# question 1 \n",
    "import numpy as np \n",
    "import scipy \n",
    "\n",
    "n1 = 11\n",
    "d0 = 5 * np.ones(n1)\n",
    "d2 = -3 * np.ones(n1-2)\n",
    "d5 = -1 * np.ones(n1-5)\n",
    "negd2 = -2 * np.ones(n1-2)\n",
    "\n",
    "A1 = np.diag(d0, 0) + np.diag(d2, 2) + np.diag(d5, 5) + np.diag(negd2, -2)\n",
    "Q1, R1 = scipy.linalg.qr(A1)\n",
    "Q1check = np.linalg.norm(Q1.T @ Q1 - np.eye(n1), 2)\n",
    "\n",
    "b = np.arange(1, n1+1)[::-1]\n",
    "\n",
    "ysol = Q1.T @ b\n",
    "xsol = scipy.linalg.solve(R1, ysol)\n",
    "rsol = A1 @ xsol - b\n",
    "rnorm = np.linalg.norm(rsol)"
   ]
  },
  {
   "cell_type": "code",
   "execution_count": null,
   "id": "0f4d23bb-09c6-47bb-ae4f-1f7acc037c94",
   "metadata": {},
   "outputs": [],
   "source": []
  }
 ],
 "metadata": {
  "kernelspec": {
   "display_name": "Python 3 (ipykernel)",
   "language": "python",
   "name": "python3"
  },
  "language_info": {
   "codemirror_mode": {
    "name": "ipython",
    "version": 3
   },
   "file_extension": ".py",
   "mimetype": "text/x-python",
   "name": "python",
   "nbconvert_exporter": "python",
   "pygments_lexer": "ipython3",
   "version": "3.12.4"
  }
 },
 "nbformat": 4,
 "nbformat_minor": 5
}
