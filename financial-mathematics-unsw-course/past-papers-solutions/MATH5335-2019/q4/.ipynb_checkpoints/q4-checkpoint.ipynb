{
 "cells": [
  {
   "cell_type": "code",
   "execution_count": 81,
   "id": "c3a20fb6-f06d-488a-9570-ddb2264849ca",
   "metadata": {},
   "outputs": [
    {
     "name": "stdout",
     "output_type": "stream",
     "text": [
      " |IQ - IT| = 0.03179732606659558\n",
      "0.03169736384294531\n",
      "1786\n"
     ]
    }
   ],
   "source": [
    "# question f \n",
    "import numpy as np \n",
    "import scipy \n",
    "f = lambda x: np.sin(10 * np.pi * x) * np.exp(-x)\n",
    "sol = scipy.integrate.quad(f, 0, 10)\n",
    "IQ = sol[0]\n",
    "NI = 11\n",
    "xI = np.linspace(0,10, NI)\n",
    "wI = np.ones(NI)\n",
    "wI[0] = 1/2 \n",
    "wI[NI-1] = 1/2\n",
    "h = 10 / NI\n",
    "IT = h * (wI @ f(xI))\n",
    "print(f\" |IQ - IT| = {np.abs(IQ - IT)}\")\n",
    "\n",
    "IT2 = IT\n",
    "while np.abs(IQ - IT2) > 0.0001:\n",
    "    NI += 1\n",
    "    h = 10 / NI\n",
    "    wI = np.ones(NI)\n",
    "    wI[0] = 1/2 \n",
    "    wI[NI-1] = 1/2\n",
    "    xI = np.linspace(0,10, NI)\n",
    "    IT2 = h * (wI @ f(xI))\n",
    "\n",
    "print(IT2)\n",
    "IQsol = 0.031938926820397\n",
    "# given f(x) is a period curve function, thus the more not the more trapiziods ar eused inthe approximation, thus the less over estimation and under estimated requred, \n",
    "# but this is in trade-off to very small x values which can cause underflow to sub-normal values "
   ]
  },
  {
   "cell_type": "code",
   "execution_count": null,
   "id": "cafeca1d-4846-499b-a480-f38a27b477ec",
   "metadata": {},
   "outputs": [],
   "source": []
  }
 ],
 "metadata": {
  "kernelspec": {
   "display_name": "Python 3 (ipykernel)",
   "language": "python",
   "name": "python3"
  },
  "language_info": {
   "codemirror_mode": {
    "name": "ipython",
    "version": 3
   },
   "file_extension": ".py",
   "mimetype": "text/x-python",
   "name": "python",
   "nbconvert_exporter": "python",
   "pygments_lexer": "ipython3",
   "version": "3.12.4"
  }
 },
 "nbformat": 4,
 "nbformat_minor": 5
}
