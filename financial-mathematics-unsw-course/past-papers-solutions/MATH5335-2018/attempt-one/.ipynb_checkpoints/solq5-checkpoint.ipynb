{
 "cells": [
  {
   "cell_type": "code",
   "execution_count": 65,
   "id": "36040b0e-0acb-401f-a9e7-e7ab1fad027f",
   "metadata": {},
   "outputs": [
    {
     "name": "stdout",
     "output_type": "stream",
     "text": [
      "101\n"
     ]
    }
   ],
   "source": [
    "import numpy as np \n",
    "N = 10**2\n",
    "zn = np.arange(0, N+1)/ N\n",
    "g = lambda x : 2 + x + x**2\n",
    "\n",
    "print(len(zn))\n",
    "h = 1/N\n",
    "d1 = np.ones(N)\n",
    "d1[0] = 0 \n",
    "d2 = (1 - h*np.pi*np.tan(np.pi*zn)) * np.ones(N+1)\n",
    "d2[0] = 1\n",
    "\n",
    "A = np.diag(d2) + np.diag(d1, 1)\n",
    "b = h * g(zn)\n",
    "b[0] = 1\n",
    "\n",
    "U = np.linalg.solve(A, b)\n"
   ]
  }
 ],
 "metadata": {
  "kernelspec": {
   "display_name": "Python 3 (ipykernel)",
   "language": "python",
   "name": "python3"
  },
  "language_info": {
   "codemirror_mode": {
    "name": "ipython",
    "version": 3
   },
   "file_extension": ".py",
   "mimetype": "text/x-python",
   "name": "python",
   "nbconvert_exporter": "python",
   "pygments_lexer": "ipython3",
   "version": "3.12.2"
  }
 },
 "nbformat": 4,
 "nbformat_minor": 5
}
