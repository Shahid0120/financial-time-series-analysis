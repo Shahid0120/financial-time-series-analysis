{
 "cells": [
  {
   "cell_type": "code",
   "execution_count": 1,
   "id": "c5b1d28f-fe4f-4be6-b392-9b4b9de7f38c",
   "metadata": {},
   "outputs": [],
   "source": [
    "# Question 1"
   ]
  },
  {
   "cell_type": "code",
   "execution_count": 61,
   "id": "a4493d24-29be-489d-9e8f-dea3356cb6a2",
   "metadata": {},
   "outputs": [],
   "source": [
    "import numpy as np\n",
    "import scipy\n",
    "import matplotlib.pyplot as plt\n",
    "import math"
   ]
  },
  {
   "cell_type": "code",
   "execution_count": 137,
   "id": "f2a73054-3ff4-4d46-8561-0a534263aa4e",
   "metadata": {},
   "outputs": [
    {
     "name": "stdout",
     "output_type": "stream",
     "text": [
      "[ 1  2  3  4  5  6  7  8  9 10 11 12 13 14 15 16 17 18 19 20 21 22 23 24\n",
      " 25 26 27 28 29 30 31 32 33 34 35 36 37 38 39 40 41 42 43 44 45 46 47 48\n",
      " 49 50 51 52 53 54 55 56 57 58 59 60 61 62 63 64 65 66 67 68 69 70 71 72\n",
      " 73 74 75 76 77 78 79 80 81 82 83 84 85 86 87 88 89 90 91 92 93 94 95 96\n",
      " 97 98 99]\n"
     ]
    },
    {
     "data": {
      "text/plain": [
       "1.1333152967041738e+45"
      ]
     },
     "execution_count": 137,
     "metadata": {},
     "output_type": "execute_result"
    }
   ],
   "source": [
    "# Q5 \n",
    "f = lambda x: np.exp(x) * (x**2 + x**3)\n",
    "N = 100 \n",
    "x = [] \n",
    "for i in range(0, N+1):\n",
    "    x_val = i/N\n",
    "    x.append(x_val)\n",
    "\n",
    "x = np.array(x)\n",
    "n = np.arange(1, N)\n",
    "print(n)\n",
    "\n",
    "# B\n",
    "main_diag = (1 - n - 2 * n**2)* np.ones(N-1)\n",
    "upper_diag_one = n[1:]**2 * np.ones(N-2)\n",
    "B += np.diag(main_diag) + np.diag(upper_diag_one, 1\n",
    "# b \n",
    "b = f(x[1:N]) * np.ones(N-1) \n",
    "b[0] = f(0)\n",
    "b[N-2] = f(N-1/N) - (N-1)**2 * math.e\n",
    "\n",
    "# Solutions\n",
    "U = np.linalg.solve(B, b)\n",
    "\n",
    "# Error \n",
    "u = lambda x: x * np.exp(x)\n",
    "Ureal = u(n) * np.ones(N-1)\n",
    "Uerr = np.linalg.norm(Ureal - U, 2)\n",
    "Uerr"
   ]
  },
  {
   "cell_type": "code",
   "execution_count": null,
   "id": "517b84da-1bab-4d15-b9c4-7a5fedebe073",
   "metadata": {},
   "outputs": [],
   "source": []
  }
 ],
 "metadata": {
  "kernelspec": {
   "display_name": "Python 3 (ipykernel)",
   "language": "python",
   "name": "python3"
  },
  "language_info": {
   "codemirror_mode": {
    "name": "ipython",
    "version": 3
   },
   "file_extension": ".py",
   "mimetype": "text/x-python",
   "name": "python",
   "nbconvert_exporter": "python",
   "pygments_lexer": "ipython3",
   "version": "3.12.4"
  }
 },
 "nbformat": 4,
 "nbformat_minor": 5
}
