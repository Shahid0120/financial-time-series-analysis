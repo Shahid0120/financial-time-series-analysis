{
 "cells": [
  {
   "cell_type": "code",
   "execution_count": 141,
   "id": "f25c5298-9f49-4096-bd89-fd6096d77f86",
   "metadata": {},
   "outputs": [
    {
     "name": "stdout",
     "output_type": "stream",
     "text": [
      "(10, 10)\n",
      "[20 18 16 14 12 10  8  6  4  2]\n",
      "10\n",
      "[8 9 6 7 0 1 2 3 4 5]\n",
      "[ 4  2  8  6 20 18 16 14 12 10]\n",
      "[ 45.  37. 102.  84. 220. 182. 309. 255. 320. 264.]\n"
     ]
    },
    {
     "data": {
      "text/plain": [
       "64.0"
      ]
     },
     "execution_count": 141,
     "metadata": {},
     "output_type": "execute_result"
    }
   ],
   "source": [
    "# Q1\n",
    "import numpy as np \n",
    "import scipy \n",
    "# a\n",
    "n = 10 \n",
    "main_diag = -2* np.ones(n)\n",
    "upper_diag = 1* np.ones(n-2)\n",
    "lower_diag = 3* np.ones(n-4)\n",
    "A = np.diag(main_diag, 0) + np.diag(upper_diag, 2) + np.diag(lower_diag, -4)\n",
    "print(np.shape(A))\n",
    "#b\n",
    "[p,L,U] = scipy.linalg.lu(A, p_indices=True)\n",
    "\n",
    "b = np.array([20, 18, 16, 14, 12, 10, 8, 6, 4, 2])\n",
    "print(b)\n",
    "print(len(p))\n",
    "print(p)\n",
    "print(b[p])\n",
    "# solving Ly = Pb\n",
    "y = scipy.linalg.solve(L, b[p])\n",
    "\n",
    "# solving Ux = y \n",
    "x = scipy.linalg.solve(U, y)\n",
    "\n",
    "r = A @ x - b\n",
    "\n",
    "r1norm = scipy.linalg.norm(r, 1)\n",
    "r1norm"
   ]
  },
  {
   "cell_type": "code",
   "execution_count": null,
   "id": "e6c1617f-9f98-4acd-b552-35d966dd9864",
   "metadata": {},
   "outputs": [],
   "source": []
  }
 ],
 "metadata": {
  "kernelspec": {
   "display_name": "Python 3 (ipykernel)",
   "language": "python",
   "name": "python3"
  },
  "language_info": {
   "codemirror_mode": {
    "name": "ipython",
    "version": 3
   },
   "file_extension": ".py",
   "mimetype": "text/x-python",
   "name": "python",
   "nbconvert_exporter": "python",
   "pygments_lexer": "ipython3",
   "version": "3.12.4"
  }
 },
 "nbformat": 4,
 "nbformat_minor": 5
}
