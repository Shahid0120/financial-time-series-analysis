{
 "cells": [
  {
   "cell_type": "code",
   "execution_count": 147,
   "id": "f25c5298-9f49-4096-bd89-fd6096d77f86",
   "metadata": {},
   "outputs": [
    {
     "name": "stdout",
     "output_type": "stream",
     "text": [
      "[[-2.  0.  1.  0.  0.  0.  0.  0.  0.  0.]\n",
      " [ 0. -2.  0.  1.  0.  0.  0.  0.  0.  0.]\n",
      " [ 0.  0. -2.  0.  1.  0.  0.  0.  0.  0.]\n",
      " [ 0.  0.  0. -2.  0.  1.  0.  0.  0.  0.]\n",
      " [ 3.  0.  0.  0. -2.  0.  1.  0.  0.  0.]\n",
      " [ 0.  3.  0.  0.  0. -2.  0.  1.  0.  0.]\n",
      " [ 0.  0.  3.  0.  0.  0. -2.  0.  1.  0.]\n",
      " [ 0.  0.  0.  3.  0.  0.  0. -2.  0.  1.]\n",
      " [ 0.  0.  0.  0.  3.  0.  0.  0. -2.  0.]\n",
      " [ 0.  0.  0.  0.  0.  3.  0.  0.  0. -2.]]\n"
     ]
    }
   ],
   "source": [
    "# Q1\n",
    "import numpy as np \n",
    "import scipy \n",
    "# a\n",
    "n = 10 \n",
    "main_diag = -2* np.ones(n)\n",
    "upper_diag = 1* np.ones(n-2)\n",
    "lower_diag = 3* np.ones(n-4)\n",
    "A = np.diag(main_diag, 0) + np.diag(upper_diag, 2) + np.diag(lower_diag, -4)\n",
    "#b\n",
    "[p,L,U] = scipy.linalg.lu(A, p_indices=True)\n",
    "\n",
    "b = np.array([20, 18, 16, 14, 12, 10, 8, 6, 4, 2])\n",
    "\n",
    "# solving Ly = Pb\n",
    "y = scipy.linalg.solve(L, b[p])\n",
    "\n",
    "# solving Ux = y \n",
    "x = scipy.linalg.solve(U, y)\n",
    "\n",
    "# residual vector\n",
    "r = A @ x - b\n",
    "\n",
    "r1norm = scipy.linalg.norm(r, 1)\n",
    "\n",
    "print(A)"
   ]
  },
  {
   "cell_type": "code",
   "execution_count": null,
   "id": "e6c1617f-9f98-4acd-b552-35d966dd9864",
   "metadata": {},
   "outputs": [],
   "source": []
  }
 ],
 "metadata": {
  "kernelspec": {
   "display_name": "Python 3 (ipykernel)",
   "language": "python",
   "name": "python3"
  },
  "language_info": {
   "codemirror_mode": {
    "name": "ipython",
    "version": 3
   },
   "file_extension": ".py",
   "mimetype": "text/x-python",
   "name": "python",
   "nbconvert_exporter": "python",
   "pygments_lexer": "ipython3",
   "version": "3.12.4"
  }
 },
 "nbformat": 4,
 "nbformat_minor": 5
}
