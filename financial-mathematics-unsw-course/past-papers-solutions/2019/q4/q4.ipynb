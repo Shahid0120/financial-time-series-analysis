{
 "cells": [
  {
   "cell_type": "code",
   "execution_count": 1,
   "id": "b9218276-60b9-4239-ba5f-20e921cb1c94",
   "metadata": {},
   "outputs": [],
   "source": [
    "# Q4"
   ]
  },
  {
   "cell_type": "code",
   "execution_count": 3,
   "id": "1122e668-0708-4604-966c-5b4baa952b36",
   "metadata": {},
   "outputs": [],
   "source": [
    "import numpy as np \n",
    "import scipy \n",
    "import matplotlib.pyplot as plt"
   ]
  },
  {
   "cell_type": "code",
   "execution_count": 65,
   "id": "9534dd1a-7588-4edf-ba30-a9a4e756290f",
   "metadata": {},
   "outputs": [
    {
     "name": "stdout",
     "output_type": "stream",
     "text": [
      "-0.002\n",
      "0.002\n",
      "1.2732353559422018\n",
      "True\n"
     ]
    }
   ],
   "source": [
    "# a / b\n",
    "f = lambda x: np.abs(np.cos(np.pi * x))\n",
    "sol = scipy.integrate.quad(f, a=0, b=2)\n",
    "IQ = sol[0]\n",
    "\n",
    "# c \n",
    "NI = 1001 \n",
    "xI = np.linspace(0, 2, NI)\n",
    "hI = xI[0] - xI[1]\n",
    "hI = 2/(NI-1)\n",
    "print(hI)\n",
    "IT = hI * f(xI) * np.ones(len(xI))\n",
    "IT[0] = hI * f(xI[0])/2\n",
    "IT[NI-1] = hI * f(xI[NI-1])/2\n",
    "IT = np.sum(IT)\n",
    "print(IT)\n",
    "\n",
    "if 1 in xI:\n",
    "    print(\"True\")\n",
    "\n",
    "# clearly, x = 1 is in part of trapezoidal rule, thus in this case there is two option, \n",
    "# 1 option is change of variables where the intergal is not discointous at any of these points, d/dx(|cos(pi*x)|) = |pi*sin(pi*x)| -> t = pi*sin(pi*x)\n",
    "# 2 option - splitting up intgral at discountinous point "
   ]
  },
  {
   "cell_type": "code",
   "execution_count": 83,
   "id": "8ccc75ef-b218-414a-8b5b-1c92270b6f36",
   "metadata": {},
   "outputs": [
    {
     "name": "stdout",
     "output_type": "stream",
     "text": [
      "-2.220446049250313e-16\n"
     ]
    },
    {
     "ename": "NameError",
     "evalue": "name 'fprintf' is not defined",
     "output_type": "error",
     "traceback": [
      "\u001b[0;31m---------------------------------------------------------------------------\u001b[0m",
      "\u001b[0;31mNameError\u001b[0m                                 Traceback (most recent call last)",
      "Cell \u001b[0;32mIn[83], line 7\u001b[0m\n\u001b[1;32m      5\u001b[0m \u001b[38;5;28mprint\u001b[39m(solT)\n\u001b[1;32m      6\u001b[0m \u001b[38;5;28;01mif\u001b[39;00m np\u001b[38;5;241m.\u001b[39mlinalg\u001b[38;5;241m.\u001b[39mnorm([solT], np\u001b[38;5;241m.\u001b[39minf) \u001b[38;5;241m<\u001b[39m \u001b[38;5;241m1e-4\u001b[39m:\n\u001b[0;32m----> 7\u001b[0m   fprintf(\u001b[38;5;124m'\u001b[39m\u001b[38;5;124mq4)c)iv) IT is within the specified tolerance\u001b[39m\u001b[38;5;130;01m\\n\u001b[39;00m\u001b[38;5;124m'\u001b[39m);\n\u001b[1;32m      8\u001b[0m \u001b[38;5;28;01melse\u001b[39;00m:\n\u001b[1;32m      9\u001b[0m   fprintf(\u001b[38;5;124m'\u001b[39m\u001b[38;5;124mq4)c)iv) IT is not within the specified tolerance\u001b[39m\u001b[38;5;130;01m\\n\u001b[39;00m\u001b[38;5;124m'\u001b[39m);\n",
      "\u001b[0;31mNameError\u001b[0m: name 'fprintf' is not defined"
     ]
    }
   ],
   "source": [
    "IQsol =1.273239835956626\n",
    "ITsol = 1.273235355942202\n",
    "NIsol = 1001\n",
    "solT = IT-ITsol\n",
    "print(solT)\n",
    "if np.linalg.norm([solT], np.inf) < 1e-4:\n",
    "  print('q4)c)iv) IT is within the specified tolerance\\n');\n",
    "else:\n",
    "  fprintf('q4)c)iv) IT is not within the specified tolerance\\n');\n",
    "end;"
   ]
  }
 ],
 "metadata": {
  "kernelspec": {
   "display_name": "Python 3 (ipykernel)",
   "language": "python",
   "name": "python3"
  },
  "language_info": {
   "codemirror_mode": {
    "name": "ipython",
    "version": 3
   },
   "file_extension": ".py",
   "mimetype": "text/x-python",
   "name": "python",
   "nbconvert_exporter": "python",
   "pygments_lexer": "ipython3",
   "version": "3.12.4"
  }
 },
 "nbformat": 4,
 "nbformat_minor": 5
}
