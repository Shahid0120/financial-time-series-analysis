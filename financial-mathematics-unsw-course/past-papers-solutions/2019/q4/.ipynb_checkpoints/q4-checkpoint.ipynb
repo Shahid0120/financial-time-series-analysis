{
 "cells": [
  {
   "cell_type": "code",
   "execution_count": 1,
   "id": "b9218276-60b9-4239-ba5f-20e921cb1c94",
   "metadata": {},
   "outputs": [],
   "source": [
    "# Q4"
   ]
  },
  {
   "cell_type": "code",
   "execution_count": 3,
   "id": "1122e668-0708-4604-966c-5b4baa952b36",
   "metadata": {},
   "outputs": [],
   "source": [
    "import numpy as np \n",
    "import scipy \n",
    "import matplotlib.pyplot as plt"
   ]
  },
  {
   "cell_type": "code",
   "execution_count": 55,
   "id": "9534dd1a-7588-4edf-ba30-a9a4e756290f",
   "metadata": {},
   "outputs": [
    {
     "name": "stdout",
     "output_type": "stream",
     "text": [
      "1.271963392549652\n",
      "True\n"
     ]
    }
   ],
   "source": [
    "# a / b\n",
    "f = lambda x: np.abs(np.cos(np.pi * x))\n",
    "sol = scipy.integrate.quad(f, a=0, b=2)\n",
    "IQ = sol[0]\n",
    "\n",
    "# c \n",
    "NI = 1001 \n",
    "xI = np.linspace(0, 2, 1001)\n",
    "hI = 2/NI\n",
    "IT = hI * f(xI) * np.ones(len(xI))\n",
    "IT[0] = hI * f(xI[0])/2 \n",
    "IT[NI-1] = hI * f(xI[NI-1])/2\n",
    "IT = np.sum(IT)\n",
    "print(IT)\n",
    "if 1 in xI:\n",
    "    print(\"True\")"
   ]
  }
 ],
 "metadata": {
  "kernelspec": {
   "display_name": "Python 3 (ipykernel)",
   "language": "python",
   "name": "python3"
  },
  "language_info": {
   "codemirror_mode": {
    "name": "ipython",
    "version": 3
   },
   "file_extension": ".py",
   "mimetype": "text/x-python",
   "name": "python",
   "nbconvert_exporter": "python",
   "pygments_lexer": "ipython3",
   "version": "3.12.4"
  }
 },
 "nbformat": 4,
 "nbformat_minor": 5
}
