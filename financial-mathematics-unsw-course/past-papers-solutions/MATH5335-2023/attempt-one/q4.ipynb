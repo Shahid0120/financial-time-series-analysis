{
 "cells": [
  {
   "cell_type": "code",
   "execution_count": 1,
   "id": "46345be2-3486-4654-ab96-e4114c4b6e8e",
   "metadata": {},
   "outputs": [],
   "source": [
    "# Question 4"
   ]
  },
  {
   "cell_type": "code",
   "execution_count": 5,
   "id": "7bca284b-f94b-44da-9ec6-4fe968b5c546",
   "metadata": {},
   "outputs": [],
   "source": [
    "import scipy \n",
    "import numpy as np\n",
    "import matplotlib.pyplot as plt"
   ]
  },
  {
   "cell_type": "code",
   "execution_count": 93,
   "id": "155e7187-ea6d-42fe-a52b-afda24267a7b",
   "metadata": {},
   "outputs": [
    {
     "name": "stdout",
     "output_type": "stream",
     "text": [
      "[1.0, 0.5617223412193921, 4.082155997157844e-17, -0.41421356237309503, -0.5358983848622454, -0.3596813123521047, -9.184850993605148e-17]\n",
      "[1. 2. 2. 2. 2. 2. 1.]\n",
      "-0.4961418367361061\n"
     ]
    }
   ],
   "source": [
    "N = 6\n",
    "h = np.pi/2 / N\n",
    "# composite rule \n",
    "func = lambda x: np.cos(3*x) / (np.sin(x) + 1)\n",
    "g = 0\n",
    "x = 0\n",
    "for index in range(0, N+1):\n",
    "    if index == 0:\n",
    "        g += func(x)/2\n",
    "    elif index == N:\n",
    "        g += func(x)/2\n",
    "    else:\n",
    "        g += func(x)\n",
    "\n",
    "    x += h\n",
    "\n",
    "final_trapi_approx = h * x\n",
    "\n",
    "x = np.linspace(0, np.pi/2, 7)\n",
    "w = np.ones(N+1)\n",
    "w[1:N] = 2\n",
    "f = []\n",
    "for index in range(0,N+1):\n",
    "    f_val = func(x[index])\n",
    "    f.append(f_val)\n",
    "\n",
    "np.array(f)\n",
    "print(f)\n",
    "print(w)\n",
    "\n",
    "Qf = w @ f\n",
    "upp = N/2\n",
    "\n",
    "Qfs = 2 *(func(x[1]) + func(x[2]) + func(x[3]) + func(x[4]))\n"
   ]
  }
 ],
 "metadata": {
  "kernelspec": {
   "display_name": "Python 3 (ipykernel)",
   "language": "python",
   "name": "python3"
  },
  "language_info": {
   "codemirror_mode": {
    "name": "ipython",
    "version": 3
   },
   "file_extension": ".py",
   "mimetype": "text/x-python",
   "name": "python",
   "nbconvert_exporter": "python",
   "pygments_lexer": "ipython3",
   "version": "3.12.4"
  }
 },
 "nbformat": 4,
 "nbformat_minor": 5
}
