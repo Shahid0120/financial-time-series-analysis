{
 "cells": [
  {
   "cell_type": "markdown",
   "id": "40162086-b86a-4735-8298-54e620f47764",
   "metadata": {},
   "source": [
    "# Question 5"
   ]
  },
  {
   "cell_type": "code",
   "execution_count": 20,
   "id": "70614552-d26f-4e34-80e7-f19863b181bd",
   "metadata": {},
   "outputs": [
    {
     "name": "stdout",
     "output_type": "stream",
     "text": [
      "[0.0, 0.25, 0.5, 0.75, 1.0]\n"
     ]
    }
   ],
   "source": [
    "import numpy as np \n",
    "import scipy\n",
    "N = 4\n",
    "h = 1/N\n",
    "x = []\n",
    "for index in range(0, N+1):\n",
    "    x_n = index*h\n",
    "    x.append(x_n)\n",
    "print(x)"
   ]
  },
  {
   "cell_type": "code",
   "execution_count": 159,
   "id": "eb8f93c6-b295-407a-9afb-d78747400eb5",
   "metadata": {},
   "outputs": [
    {
     "name": "stdout",
     "output_type": "stream",
     "text": [
      "[[ 3.     -4.      1.      0.    ]\n",
      " [ 1.     -2.0625  1.      0.    ]\n",
      " [ 0.      1.     -2.0625  1.    ]\n",
      " [ 0.      0.      1.     -2.0625]]\n",
      "[0, -0.20021630672179566, -0.15323892694351673, -0.08293230965241935]\n"
     ]
    }
   ],
   "source": [
    "# define \n",
    "row = 0\n",
    "a = []\n",
    "A = np.zeros((N,N))\n",
    "A[row, 0] += 3\n",
    "A[row, 1] += -4\n",
    "A[row, 2] += 1 \n",
    "a.append(0)\n",
    "f = lambda x: (np.pi**2 /4 + 1) * np.cos(np.pi + np.pi*(x/2))\n",
    "row = 1\n",
    "for i in range(1, N):\n",
    "    try:\n",
    "        if i + 1 == 4:\n",
    "            A[row, i] += -2 - h**2 \n",
    "            A[row, i -1] += 1\n",
    "        else:\n",
    "            A[row, i] += -2 - h**2 \n",
    "            A[row, i+1] += 1\n",
    "            A[row, i -1] += 1\n",
    "            \n",
    "        a_val = h**2 * f(x[i])\n",
    "        a.append(a_val)\n",
    "        row += 1\n",
    "    except IndexError as e:\n",
    "        print(f\"oh no {e}\")\n",
    "        print(A)\n",
    "\n",
    "print(A)\n",
    "print(a)\n",
    "    "
   ]
  },
  {
   "cell_type": "code",
   "execution_count": 163,
   "id": "5b30a198-936b-4640-b17f-55be00302bee",
   "metadata": {},
   "outputs": [
    {
     "data": {
      "text/plain": [
       "32.96717919759065"
      ]
     },
     "execution_count": 163,
     "metadata": {},
     "output_type": "execute_result"
    }
   ],
   "source": [
    "norm = np.linalg.norm(A.T @ A - np.identity(N), 2)\n",
    "norm"
   ]
  },
  {
   "cell_type": "markdown",
   "id": "3d36d99a-5f9b-4259-9ab2-f0ee080232d9",
   "metadata": {},
   "source": [
    "## whats types of matrix is A?\n",
    "### is it orthogonal, symetric, svd?\n",
    "(1) A.T /= A -> not symetric -> no chol\n",
    "(2) Orthgonal -> since the norm > 0 clearly not orthogonal \n",
    "(3) LU factorisation !\n"
   ]
  },
  {
   "cell_type": "code",
   "execution_count": 169,
   "id": "2596a11c-d5d0-4ba3-b027-11014a301f2d",
   "metadata": {},
   "outputs": [
    {
     "name": "stdout",
     "output_type": "stream",
     "text": [
      "[0.99101639 0.91964721 0.70553968 0.38228945]\n"
     ]
    }
   ],
   "source": [
    "U4 = scipy.linalg.solve(A, a)\n",
    "print(U4)"
   ]
  },
  {
   "cell_type": "code",
   "execution_count": 173,
   "id": "0c75de01-e2a9-41af-9f2a-8a90b59cda8a",
   "metadata": {},
   "outputs": [
    {
     "name": "stdout",
     "output_type": "stream",
     "text": [
      "[0.9910163920694773, 1.0, 0.9238795325112867, 0.7071067811865476]\n",
      "[0.99101639 0.91964721 0.70553968 0.38228945]\n"
     ]
    }
   ],
   "source": [
    "g = lambda x: np.cos(np.pi*x / 2)\n",
    "u = [] \n",
    "u.append(U4[0])\n",
    "for index in range(0,N-1):\n",
    "    u_val = g(x[index])\n",
    "    u.append(u_val)\n",
    "print(u)\n",
    "print(U4)\n"
   ]
  },
  {
   "cell_type": "code",
   "execution_count": 173,
   "id": "0004a383-be16-4e1f-8666-af3b3982879e",
   "metadata": {},
   "outputs": [
    {
     "name": "stdout",
     "output_type": "stream",
     "text": [
      "[0.9910163920694773, 1.0, 0.9238795325112867, 0.7071067811865476]\n",
      "[0.99101639 0.91964721 0.70553968 0.38228945]\n"
     ]
    }
   ],
   "source": [
    "g = lambda x: np.cos(np.pi*x / 2)\n",
    "u = [] \n",
    "u.append(U4[0])\n",
    "for index in range(0,N-1):\n",
    "    u_val = g(x[index])\n",
    "    u.append(u_val)\n",
    "print(u)\n",
    "print(U4)\n"
   ]
  },
  {
   "cell_type": "code",
   "execution_count": null,
   "id": "b7d11c52-4081-4c78-96a2-b28b5a2b9ccf",
   "metadata": {},
   "outputs": [],
   "source": [
    "U4=solve(A,a)\n",
    "E=zeros(3)\n",
    "OC=zeros(2)\n",
    "for i in range(0,3):\n",
    "    N=(2**i)*80\n",
    "    x1 = linspace(0,1,N+1);\n",
    "    U = zeros(N)\n",
    "    h1=1/N\n",
    "    d1=ones(N‐1)\n",
    "    d4=ones(N‐1)\n",
    "    d1[0]=‐4\n",
    "    d2=zeros(N‐2)\n",
    "    d2[0]=1\n",
    "    d3=ones(N)*(‐2‐h1**2)\n",
    "    d3[0]=3 A1=diag(d1,1)+diag(d4,‐1)+diag(d3)+diag(d2,2) a1=zeros(N) a1[1:]=h1**2*(1+pi**2/4)*cos(pi+pi/2*x1[1:N]) U=solve(A1,a1)\n",
    "    u= cos(pi/2*x1[0:N]).T\n",
    "    E[i]=norm(U‐u,inf)"
   ]
  }
 ],
 "metadata": {
  "kernelspec": {
   "display_name": "Python 3 (ipykernel)",
   "language": "python",
   "name": "python3"
  },
  "language_info": {
   "codemirror_mode": {
    "name": "ipython",
    "version": 3
   },
   "file_extension": ".py",
   "mimetype": "text/x-python",
   "name": "python",
   "nbconvert_exporter": "python",
   "pygments_lexer": "ipython3",
   "version": "3.12.4"
  }
 },
 "nbformat": 4,
 "nbformat_minor": 5
}
