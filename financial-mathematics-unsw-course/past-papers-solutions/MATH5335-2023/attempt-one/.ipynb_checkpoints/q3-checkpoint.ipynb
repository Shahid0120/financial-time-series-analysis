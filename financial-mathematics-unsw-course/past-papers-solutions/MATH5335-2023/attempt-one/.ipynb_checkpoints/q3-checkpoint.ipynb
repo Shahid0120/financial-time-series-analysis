{
 "cells": [
  {
   "cell_type": "markdown",
   "id": "a1824dc2-7107-420f-9fbd-758db5497657",
   "metadata": {},
   "source": [
    "# Question 3 "
   ]
  },
  {
   "cell_type": "code",
   "execution_count": 1,
   "id": "0f76e1b1-73c1-4439-9e94-06b763d7d1b2",
   "metadata": {},
   "outputs": [],
   "source": [
    "import numpy as np\n",
    "import scipy \n",
    "import matplotlib.pyplot as plt"
   ]
  },
  {
   "cell_type": "code",
   "execution_count": null,
   "id": "f83fd3cd-363c-463b-b8d4-89d31152f733",
   "metadata": {},
   "outputs": [],
   "source": [
    "def function(x):\n",
    "    value = 40 * x**2 + 1/(1 + x**3) - 4*np.exp(2*x)\n",
    "    return value\n",
    "\n",
    "x_vals = np.arange(0,2, 0.1)\n",
    "y_vals = []\n",
    "for val in x_vals:\n",
    "    y_val = function(val)\n",
    "    y_vals.append(y_val)\n",
    "\n",
    "plt.figure()\n",
    "plt.plt(x_vals, y_vals)\n",
    "plt.show()"
   ]
  },
  {
   "cell_type": "code",
   "execution_count": 5,
   "id": "dcbe4d91-8f51-4a0d-923a-8e43e43f12fc",
   "metadata": {},
   "outputs": [],
   "source": [
    "nfzero = 2"
   ]
  },
  {
   "cell_type": "code",
   "execution_count": 11,
   "id": "5f7f7d87-b5ce-40cd-9391-43bdcf003c59",
   "metadata": {},
   "outputs": [
    {
     "name": "stdout",
     "output_type": "stream",
     "text": [
      "[0.53161136]\n"
     ]
    }
   ],
   "source": [
    "f = lambda x: 40 * x**2 + 1/(1 + x)**3- 4*np.exp(2*x)\n",
    "l = scipy.optimize.fsolve(f, x0 = 1/4)\n",
    "xfzero = l\n",
    "print(l)"
   ]
  },
  {
   "cell_type": "code",
   "execution_count": 52,
   "id": "05430315-6b29-40e4-ada3-0d8ea744d399",
   "metadata": {},
   "outputs": [
    {
     "name": "stdout",
     "output_type": "stream",
     "text": [
      "      converged: True\n",
      "           flag: converged\n",
      " function_calls: 14\n",
      "     iterations: 7\n",
      "           root: 0.49910676733234954\n",
      "         method: newton\n"
     ]
    }
   ],
   "source": [
    "#help(scipy.optimize.root_scalar)\n",
    "sol = scipy.optimize.root_scalar(f, method='newton', x0 = 1/4, xtol=np.finfo(np.float64).eps)\n",
    "xapp = sol[\"root\"]\n",
    "print(sol)"
   ]
  },
  {
   "cell_type": "code",
   "execution_count": 17,
   "id": "7e3d39d1-0d70-479c-b449-d689e0279209",
   "metadata": {},
   "outputs": [
    {
     "name": "stdout",
     "output_type": "stream",
     "text": [
      "[-0.3919296110682593, -0.5458430363912531, -0.7276732245894121]\n"
     ]
    }
   ],
   "source": [
    "df = lambda x: 80*x - 3/(1+x)**4 - 8*np.exp(2*x)\n",
    "iter = 0 \n",
    "x_0 = 1/4\n",
    "Error = [] \n",
    "while iter < 3:\n",
    "    x = x_0 + f(x_0)/ df(x_0)\n",
    "    Error.append(x)\n",
    "    x_0 = x\n",
    "    iter += 1\n",
    "print(Error)"
   ]
  },
  {
   "cell_type": "code",
   "execution_count": 27,
   "id": "f6ed6cb2-4ab8-4194-b30a-71f22ae32d64",
   "metadata": {},
   "outputs": [
    {
     "name": "stdout",
     "output_type": "stream",
     "text": [
      "0.5228162644310659\n"
     ]
    }
   ],
   "source": [
    "x_n_neg_1 = 0 \n",
    "x_n = 1 \n",
    "iter = 0\n",
    "\n",
    "for index in range(0,4):\n",
    "    x_n_1 = x_n - f(x_n)/(f(x_n) - f(x_n_neg_1)) *(x_n - x_n_neg_1)\n",
    "    x_n_neg_1 = x_n\n",
    "    x_n = x_n_1\n",
    "\n",
    "xs5 = x_n_1\n",
    "print(xs5)"
   ]
  },
  {
   "cell_type": "code",
   "execution_count": null,
   "id": "9cfafe90-c2c1-47e2-a0fc-02cd9651ab82",
   "metadata": {},
   "outputs": [],
   "source": [
    "from numpy import linspace, exp, zeros\n",
    "from matplotlib.pyplot import plot\n",
    "from scipy.optimize import fsolve\n",
    "xfzero = fsolve(f,1/4)\n",
    "xapp=1/4\n",
    "\n",
    "xappb=xfzero\n",
    "xx=zeros(4)\n",
    "Error=zeros(3)\n",
    "xx[0]=xapp\n",
    "\n",
    "for n in range(1,4):\n",
    "    xx[n]=xx[n-1]-f(xx[n-1])/df(xx[n-1])\n",
    "\n",
    "Error=abs(xx[1:]-xappb)\n",
    "\n",
    "while abs(xapp-xappb) > 10**(-15):\n",
    "    xappn= xapp - f(xapp)/df(xapp)\n",
    "xappb = xapp\n",
    "xapp = xappn\n",
    "\n",
    "xs=zeros(6)\n",
    "xs[1]=1\n",
    "for n in range(2,6):\n",
    "    xs[n]=xs[n-1]-f(xs[n-1])/(f(xs[n-1])-f(xs[n-2]))*(xs[n-1]-xs[n-2]) \n",
    "xs5=xs[5]"
   ]
  }
 ],
 "metadata": {
  "kernelspec": {
   "display_name": "Python 3 (ipykernel)",
   "language": "python",
   "name": "python3"
  },
  "language_info": {
   "codemirror_mode": {
    "name": "ipython",
    "version": 3
   },
   "file_extension": ".py",
   "mimetype": "text/x-python",
   "name": "python",
   "nbconvert_exporter": "python",
   "pygments_lexer": "ipython3",
   "version": "3.12.4"
  }
 },
 "nbformat": 4,
 "nbformat_minor": 5
}
