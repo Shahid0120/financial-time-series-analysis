{
 "cells": [
  {
   "cell_type": "code",
   "execution_count": 14,
   "id": "a451e2c2-fe78-4251-9a8c-d75f7652b52e",
   "metadata": {},
   "outputs": [
    {
     "name": "stdout",
     "output_type": "stream",
     "text": [
      "[-4.  1.  1.]\n",
      "[[ 3.     -4.      1.      0.    ]\n",
      " [ 1.     -2.0625  1.      0.    ]\n",
      " [ 0.      1.     -2.0625  1.    ]\n",
      " [ 0.      0.      1.     -2.0625]]\n",
      "[ 0.         -0.20021631 -0.15323893 -0.08293231]\n"
     ]
    }
   ],
   "source": [
    "# Answer \n",
    "from numpy.linalg import solve, norm\n",
    "from numpy import diag, cos, log, ones, zeros, pi, inf \n",
    "from numpy import linspace\n",
    "\n",
    "N=4\n",
    "x = linspace(0,1,N+1)\n",
    "U4 = zeros(N)\n",
    "h=1/N\n",
    "d1=ones(N-1)\n",
    "d4=ones(N-1)\n",
    "d1[0]=-4\n",
    "d2=zeros(N-2)\n",
    "d2[0]=1\n",
    "d3=ones(N)*(-2-h**2)\n",
    "d3[0]=3 \n",
    "A=diag(d1,1)+diag(d4,-1)+diag(d3)+diag(d2,2) \n",
    "print(d1)\n",
    "print(A)\n",
    "a=zeros(N) \n",
    "a[1:]=h**2*(1+pi**2/4)*cos(pi+pi/2*x[1:N])\n",
    "print(a)"
   ]
  },
  {
   "cell_type": "code",
   "execution_count": 20,
   "id": "5773b1f5-9cb6-421c-a4e5-cbce895c28a0",
   "metadata": {},
   "outputs": [
    {
     "name": "stdout",
     "output_type": "stream",
     "text": [
      "[2.06736061e-05 5.43731136e-06 1.39379747e-06]\n"
     ]
    }
   ],
   "source": [
    "U4=solve(A,a)\n",
    "E=zeros(3)\n",
    "OC=zeros(2)\n",
    "for i in range(0,3):\n",
    "    N=(2**i)*80\n",
    "    x1 = linspace(0,1,N+1);\n",
    "    U = zeros(N)\n",
    "    h1=1/N\n",
    "    d1=ones(N-1)\n",
    "    d4=ones(N-1)\n",
    "    d1[0]=-4\n",
    "    d2=zeros(N-2)\n",
    "    d2[0]=1\n",
    "    d3=ones(N)*(-2-h1**2)\n",
    "    d3[0]=3 \n",
    "    A1=diag(d1,1)+diag(d4,-1)+diag(d3)+diag(d2,2) \n",
    "    a1=zeros(N) \n",
    "    a1[1:]=h1**2*(1+pi**2/4)*cos(pi+pi/2*x1[1:N]) \n",
    "    U=solve(A1,a1)\n",
    "    u= cos(pi/2*x1[0:N]).T\n",
    "    E[i]=norm(U-u,inf)\n",
    "print(E)"
   ]
  },
  {
   "cell_type": "code",
   "execution_count": null,
   "id": "f55adf8d-746c-48e3-b195-065c2c40fd7d",
   "metadata": {},
   "outputs": [],
   "source": []
  }
 ],
 "metadata": {
  "kernelspec": {
   "display_name": "Python 3 (ipykernel)",
   "language": "python",
   "name": "python3"
  },
  "language_info": {
   "codemirror_mode": {
    "name": "ipython",
    "version": 3
   },
   "file_extension": ".py",
   "mimetype": "text/x-python",
   "name": "python",
   "nbconvert_exporter": "python",
   "pygments_lexer": "ipython3",
   "version": "3.12.4"
  }
 },
 "nbformat": 4,
 "nbformat_minor": 5
}
