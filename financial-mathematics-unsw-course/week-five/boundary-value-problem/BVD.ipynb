{
 "cells": [
  {
   "cell_type": "markdown",
   "id": "eae7daaf-10dd-4b12-98b3-433efcbb6e1d",
   "metadata": {},
   "source": [
    "# Boundary value problems"
   ]
  },
  {
   "cell_type": "code",
   "execution_count": 7,
   "id": "5e072748-d13d-4c1e-8459-e184421891af",
   "metadata": {
    "scrolled": true
   },
   "outputs": [
    {
     "name": "stdout",
     "output_type": "stream",
     "text": [
      "  (0, 0)\t1\n",
      "  (1, 0)\t1\n",
      "  (2, 0)\t2\n",
      "  (1, 1)\t3\n",
      "  (2, 1)\t3\n",
      "  (0, 2)\t2\n",
      "[[1 0 2]\n",
      " [1 3 0]\n",
      " [2 3 0]]\n"
     ]
    }
   ],
   "source": [
    "import numpy as np \n",
    "import scipy\n",
    "from numpy import ndarray\n",
    "from scipy.sparse import csc_array\n",
    "from scipy.linalg import lu\n",
    "from scipy.sparse.linalg import splu\n",
    "\n",
    "A = np.array([[1,0,2], [1,3,0], [2,3,0]])\n",
    "spA = csc_array(A)\n",
    "print(spA)\n",
    "print(A)"
   ]
  }
 ],
 "metadata": {
  "kernelspec": {
   "display_name": "Python 3 (ipykernel)",
   "language": "python",
   "name": "python3"
  },
  "language_info": {
   "codemirror_mode": {
    "name": "ipython",
    "version": 3
   },
   "file_extension": ".py",
   "mimetype": "text/x-python",
   "name": "python",
   "nbconvert_exporter": "python",
   "pygments_lexer": "ipython3",
   "version": "3.12.4"
  }
 },
 "nbformat": 4,
 "nbformat_minor": 5
}
