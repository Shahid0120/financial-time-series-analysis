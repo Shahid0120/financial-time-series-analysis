{
 "cells": [
  {
   "cell_type": "markdown",
   "id": "430428f4-b36c-422e-b870-a152218e336b",
   "metadata": {},
   "source": [
    "# Question two \n",
    "Shahid Hussain\n",
    "\n",
    "Suppose from Lecture we use \n",
    "Tmt = 60*30 days\n",
    "r = 5.3%\n",
    "S = 32.75 \n",
    "K = 32\n",
    "cmkt = 2.74\n",
    "pmkt = 1.16"
   ]
  },
  {
   "cell_type": "code",
   "execution_count": 6,
   "id": "34843353-bbbf-4355-8aa3-f24d9021eed0",
   "metadata": {},
   "outputs": [],
   "source": [
    "import numpy as np \n",
    "import scipy "
   ]
  },
  {
   "cell_type": "markdown",
   "id": "2f0061ef-1fca-46fa-ade1-b8047853c4bd",
   "metadata": {},
   "source": [
    "## (a) find lim(p(sigma)) as sigma -> 0^+"
   ]
  },
  {
   "cell_type": "code",
   "execution_count": null,
   "id": "6c4ebf3b-6c42-407f-bc65-6db5fcf031aa",
   "metadata": {},
   "outputs": [],
   "source": []
  }
 ],
 "metadata": {
  "kernelspec": {
   "display_name": "Python 3 (ipykernel)",
   "language": "python",
   "name": "python3"
  },
  "language_info": {
   "codemirror_mode": {
    "name": "ipython",
    "version": 3
   },
   "file_extension": ".py",
   "mimetype": "text/x-python",
   "name": "python",
   "nbconvert_exporter": "python",
   "pygments_lexer": "ipython3",
   "version": "3.12.4"
  }
 },
 "nbformat": 4,
 "nbformat_minor": 5
}
