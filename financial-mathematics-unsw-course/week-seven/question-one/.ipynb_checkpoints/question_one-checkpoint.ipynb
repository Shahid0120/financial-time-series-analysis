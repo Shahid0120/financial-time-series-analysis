{
 "cells": [
  {
   "cell_type": "markdown",
   "id": "35a88841-d2e2-45c2-a190-a9dd0e44d1b0",
   "metadata": {},
   "source": [
    "# Question One - Implied Volatility\n",
    "By Shahid Hussain \n",
    "16th July 2024\n"
   ]
  },
  {
   "cell_type": "code",
   "execution_count": 133,
   "id": "b5f338a7-cd93-45e2-8b64-75d25e418f69",
   "metadata": {},
   "outputs": [],
   "source": [
    "import scipy\n",
    "import datetime \n",
    "import numpy as np\n",
    "from numpy import finfo, sqrt, log, exp\n",
    "from scipy.optimize import root_scalar\n",
    "from blackscholes import blackscholes, bsput\n",
    "from scipy.stats import norm"
   ]
  },
  {
   "cell_type": "code",
   "execution_count": 233,
   "id": "ed660156-d47d-48c3-8c8f-0c289a336e61",
   "metadata": {},
   "outputs": [
    {
     "name": "stdout",
     "output_type": "stream",
     "text": [
      "Implied volatility: 0.12900551839676616  Iterations:14    Strike Price:33.5    Makret_Call: 1.46  Black Sholes Calculated Call: 1.4600000000000009\n",
      "Based on this option is worth buying\n",
      "\n",
      "Implied volatility: 0.12386073876285313  Iterations:11    Strike Price:34    Makret_Call: 1.04  Black Sholes Calculated Call: 1.039999999999992\n",
      "Based on this option is worth buying\n",
      "\n",
      "Implied volatility: 0.10896122661143971  Iterations:8    Strike Price:34.5    Makret_Call: 0.64  Black Sholes Calculated Call: 0.6399999999999473\n",
      "Based on this option is worth buying\n",
      "\n",
      "Implied volatility: 0.10904588132362625  Iterations:7    Strike Price:35    Makret_Call: 0.37  Black Sholes Calculated Call: 0.36999999999999744\n",
      "Based on this option is worth buying\n",
      "\n"
     ]
    },
    {
     "ename": "ValueError",
     "evalue": "f(a) and f(b) must have different signs",
     "output_type": "error",
     "traceback": [
      "\u001b[0;31m---------------------------------------------------------------------------\u001b[0m",
      "\u001b[0;31mValueError\u001b[0m                                Traceback (most recent call last)",
      "Cell \u001b[0;32mIn[233], line 39\u001b[0m\n\u001b[1;32m     36\u001b[0m ft \u001b[38;5;241m=\u001b[39m \u001b[38;5;28;01mlambda\u001b[39;00m sigma: fValue(sigma, strike) \u001b[38;5;241m-\u001b[39m call_market_price[j]\n\u001b[1;32m     38\u001b[0m \u001b[38;5;66;03m# finding root of function \u001b[39;00m\n\u001b[0;32m---> 39\u001b[0m sol \u001b[38;5;241m=\u001b[39m root_scalar(ft, bracket\u001b[38;5;241m=\u001b[39msigint, method\u001b[38;5;241m=\u001b[39m\u001b[38;5;124m'\u001b[39m\u001b[38;5;124mbrentq\u001b[39m\u001b[38;5;124m'\u001b[39m)\n\u001b[1;32m     41\u001b[0m \u001b[38;5;66;03m# Find BlackSholes \u001b[39;00m\n\u001b[1;32m     42\u001b[0m implied_volatility \u001b[38;5;241m=\u001b[39m sol\u001b[38;5;241m.\u001b[39mroot\n",
      "File \u001b[0;32m/opt/anaconda3/lib/python3.12/site-packages/scipy/optimize/_root_scalar.py:279\u001b[0m, in \u001b[0;36mroot_scalar\u001b[0;34m(f, args, method, bracket, fprime, fprime2, x0, x1, xtol, rtol, maxiter, options)\u001b[0m\n\u001b[1;32m    277\u001b[0m a, b \u001b[38;5;241m=\u001b[39m bracket[:\u001b[38;5;241m2\u001b[39m]\n\u001b[1;32m    278\u001b[0m \u001b[38;5;28;01mtry\u001b[39;00m:\n\u001b[0;32m--> 279\u001b[0m     r, sol \u001b[38;5;241m=\u001b[39m methodc(f, a, b, args\u001b[38;5;241m=\u001b[39margs, \u001b[38;5;241m*\u001b[39m\u001b[38;5;241m*\u001b[39mkwargs)\n\u001b[1;32m    280\u001b[0m \u001b[38;5;28;01mexcept\u001b[39;00m \u001b[38;5;167;01mValueError\u001b[39;00m \u001b[38;5;28;01mas\u001b[39;00m e:\n\u001b[1;32m    281\u001b[0m     \u001b[38;5;66;03m# gh-17622 fixed some bugs in low-level solvers by raising an error\u001b[39;00m\n\u001b[1;32m    282\u001b[0m     \u001b[38;5;66;03m# (rather than returning incorrect results) when the callable\u001b[39;00m\n\u001b[1;32m    283\u001b[0m     \u001b[38;5;66;03m# returns a NaN. It did so by wrapping the callable rather than\u001b[39;00m\n\u001b[1;32m    284\u001b[0m     \u001b[38;5;66;03m# modifying compiled code, so the iteration count is not available.\u001b[39;00m\n\u001b[1;32m    285\u001b[0m     \u001b[38;5;28;01mif\u001b[39;00m \u001b[38;5;28mhasattr\u001b[39m(e, \u001b[38;5;124m\"\u001b[39m\u001b[38;5;124m_x\u001b[39m\u001b[38;5;124m\"\u001b[39m):\n",
      "File \u001b[0;32m/opt/anaconda3/lib/python3.12/site-packages/scipy/optimize/_zeros_py.py:806\u001b[0m, in \u001b[0;36mbrentq\u001b[0;34m(f, a, b, args, xtol, rtol, maxiter, full_output, disp)\u001b[0m\n\u001b[1;32m    804\u001b[0m     \u001b[38;5;28;01mraise\u001b[39;00m \u001b[38;5;167;01mValueError\u001b[39;00m(\u001b[38;5;124mf\u001b[39m\u001b[38;5;124m\"\u001b[39m\u001b[38;5;124mrtol too small (\u001b[39m\u001b[38;5;132;01m{\u001b[39;00mrtol\u001b[38;5;132;01m:\u001b[39;00m\u001b[38;5;124mg\u001b[39m\u001b[38;5;132;01m}\u001b[39;00m\u001b[38;5;124m < \u001b[39m\u001b[38;5;132;01m{\u001b[39;00m_rtol\u001b[38;5;132;01m:\u001b[39;00m\u001b[38;5;124mg\u001b[39m\u001b[38;5;132;01m}\u001b[39;00m\u001b[38;5;124m)\u001b[39m\u001b[38;5;124m\"\u001b[39m)\n\u001b[1;32m    805\u001b[0m f \u001b[38;5;241m=\u001b[39m _wrap_nan_raise(f)\n\u001b[0;32m--> 806\u001b[0m r \u001b[38;5;241m=\u001b[39m _zeros\u001b[38;5;241m.\u001b[39m_brentq(f, a, b, xtol, rtol, maxiter, args, full_output, disp)\n\u001b[1;32m    807\u001b[0m \u001b[38;5;28;01mreturn\u001b[39;00m results_c(full_output, r, \u001b[38;5;124m\"\u001b[39m\u001b[38;5;124mbrentq\u001b[39m\u001b[38;5;124m\"\u001b[39m)\n",
      "\u001b[0;31mValueError\u001b[0m: f(a) and f(b) must have different signs"
     ]
    }
   ],
   "source": [
    "# Function for BlackScholes\n",
    "def blackScholes(share_price, strike_price, risk, Tmt, sigma):\n",
    "    # Inputs for BlackScholes Model\n",
    "    s = sigma * sqrt(Tmt)\n",
    "    \n",
    "    d1 = (log(share_price/strike_price) + (risk + sigma**2/2)*Tmt ) / s\n",
    "    d2 = d1 - s\n",
    "\n",
    "    # BlackScholes Equation \n",
    "    c = share_price * norm.cdf(d1) - strike_price*exp(-risk*Tmt)*norm.cdf(d2)\n",
    "    deriv = share_price *norm.pdf(d1)* sqrt(Tmt)\n",
    "\n",
    "    return c, deriv\n",
    "\n",
    "# BlackScholesValue \n",
    "def fValue(sigma, strike):\n",
    "    f, deriv = blackScholes(share_price, strike, risk, Tmt, sigma)\n",
    "    return f \n",
    "    \n",
    "# Loop to iterate over all striked values and then find the implied volatility using root_scalar \n",
    "share_price = 34.810 \n",
    "risk = 0.025\n",
    "strike_price_vector = [33.5, 34, 34.5, 35, 35.5, 36]\n",
    "call_market_price = [1.46, 1.040, 0.640, 0.370, 9.155, 0.070]\n",
    "\n",
    "t0 = date.fromisoformat('2014-08-27')\n",
    "tn = date.fromisoformat('2014-09-25')\n",
    "Tmt = (tn - t0).days / 365\n",
    "singlo = finfo(float64).eps\n",
    "singhigh = 1.0\n",
    "sigint = [singlo, singhigh]\n",
    "\n",
    "for j,strike in enumerate(strike_price_vector):\n",
    "\n",
    "    # Function for unknow sigma\n",
    "    ft = lambda sigma: fValue(sigma, strike) - call_market_price[j]\n",
    "    \n",
    "    # finding root of function \n",
    "    sol = root_scalar(ft, bracket=sigint, method='brentq')\n",
    "\n",
    "    # Find BlackSholes \n",
    "    implied_volatility = sol.root\n",
    "    print(f\"Implied volatility: {sol.root}  Iterations:{sol.iterations}    Strike Price:{strike}    Makret_Call: {call_market_price[j]}  Black Sholes Calculated Call: {f(implied_volatility, strike)}\")\n",
    "    if f(sigma, strike) > call_market_price[j]:\n",
    "        print(\"Based on this it is not work buying this option\\n\")\n",
    "    else:\n",
    "         print(\"Based on this option is worth buying\\n\")\n",
    "    "
   ]
  }
 ],
 "metadata": {
  "kernelspec": {
   "display_name": "Python 3 (ipykernel)",
   "language": "python",
   "name": "python3"
  },
  "language_info": {
   "codemirror_mode": {
    "name": "ipython",
    "version": 3
   },
   "file_extension": ".py",
   "mimetype": "text/x-python",
   "name": "python",
   "nbconvert_exporter": "python",
   "pygments_lexer": "ipython3",
   "version": "3.12.4"
  }
 },
 "nbformat": 4,
 "nbformat_minor": 5
}
