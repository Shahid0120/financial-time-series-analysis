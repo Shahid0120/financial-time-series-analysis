{
 "cells": [
  {
   "cell_type": "code",
   "execution_count": 9,
   "id": "c9546055-135d-4558-8b1b-1548c04069c9",
   "metadata": {},
   "outputs": [
    {
     "ename": "ModuleNotFoundError",
     "evalue": "No module named 'datatime'",
     "output_type": "error",
     "traceback": [
      "\u001b[0;31m---------------------------------------------------------------------------\u001b[0m",
      "\u001b[0;31mModuleNotFoundError\u001b[0m                       Traceback (most recent call last)",
      "Cell \u001b[0;32mIn[9], line 7\u001b[0m\n\u001b[1;32m      5\u001b[0m \u001b[38;5;28;01mimport\u001b[39;00m \u001b[38;5;21;01mmatplotlib\u001b[39;00m\u001b[38;5;21;01m.\u001b[39;00m\u001b[38;5;21;01mpyplot\u001b[39;00m \u001b[38;5;28;01mas\u001b[39;00m \u001b[38;5;21;01mplt\u001b[39;00m\n\u001b[1;32m      6\u001b[0m \u001b[38;5;28;01mfrom\u001b[39;00m \u001b[38;5;21;01mdatetime\u001b[39;00m \u001b[38;5;28;01mimport\u001b[39;00m date\n\u001b[0;32m----> 7\u001b[0m \u001b[38;5;28;01mimport\u001b[39;00m \u001b[38;5;21;01mdatatime\u001b[39;00m\n\u001b[1;32m      9\u001b[0m \u001b[38;5;28;01mdef\u001b[39;00m \u001b[38;5;21mblackScholesModel\u001b[39m(S, K, r, Tmt, sigma):\n\u001b[1;32m     10\u001b[0m \n\u001b[1;32m     11\u001b[0m     \u001b[38;5;66;03m# Inputs for Black-Scholes Equation\u001b[39;00m\n\u001b[1;32m     12\u001b[0m     d1 \u001b[38;5;241m=\u001b[39m ((np\u001b[38;5;241m.\u001b[39mlog(S\u001b[38;5;241m/\u001b[39mK) \u001b[38;5;241m+\u001b[39m r\u001b[38;5;241m*\u001b[39mnp\u001b[38;5;241m.\u001b[39msqrt(Tmt))\u001b[38;5;241m/\u001b[39m sigma\u001b[38;5;241m*\u001b[39mnp\u001b[38;5;241m.\u001b[39msqrt(Tmt)) \u001b[38;5;241m+\u001b[39m \u001b[38;5;241m0.5\u001b[39m\u001b[38;5;241m*\u001b[39msigma\u001b[38;5;241m*\u001b[39mnp\u001b[38;5;241m.\u001b[39msqrt(Tmt)\n",
      "\u001b[0;31mModuleNotFoundError\u001b[0m: No module named 'datatime'"
     ]
    }
   ],
   "source": [
    "# Question One \n",
    "\n",
    "import numpy as np \n",
    "import scipy\n",
    "import matplotlib.pyplot as plt\n",
    "from datetime import date\n",
    "import datatime\n",
    "\n",
    "def blackScholesModel(S, K, r, Tmt, sigma):\n",
    "\n",
    "    # Inputs for Black-Scholes Equation\n",
    "    d1 = ((np.log(S/K) + r*np.sqrt(Tmt))/ sigma*np.sqrt(Tmt)) + 0.5*sigma*np.sqrt(Tmt)\n",
    "    d2 = sigma*np.sqrt(Tmt)\n",
    "\n",
    "    # Black-Scholes Equation\n",
    "    c = S*scipy.stats.norm.cdf(d1) + np.exp(-r*Tmt)*scipy.stats.norm.cdf(d2)\n",
    "\n",
    "    # Derivative of Black-Scholes w.r.t volatility\n",
    "    deriv = S* scipy.stats.norm.pdf(d1) * np.sqrt(Tmt)\n",
    "    \n",
    "    return c, deriv\n",
    "\n",
    "def blackScholesFunction(sigma):\n",
    "    f, deriv = blackScholesModel(S, Y[k], r, Tmt, sigma)\n",
    "    return f \n",
    "\n",
    "\n",
    "# Inputs for Black-Scholes Model\n",
    "S = 34.81 \n",
    "r = 0.25 \n",
    "t0 = datatime.formisoformat('2014-07-27')\n",
    "tn = datatime.formisoformat('2014-08-25')\n",
    "Tmt = (tn - t0).days / 365\n",
    "X = [33.5, 34, 34.5, 35, 35.5, 36]\n",
    "Y = [1.46, 1.040, 0.640, 0.370, 9.155, 0.070]\n",
    "sigma_low = 0 \n",
    "sigma_high = 1 \n",
    "\n",
    "# Iterate over all data stirck and calls\n",
    "for k in range(len(X)):\n",
    "    # function for where sigma is variable unknown\n",
    "    ft = lambda sigma : blackScholesModel(S, Y[k], r, Tmt, sigma)\n",
    "    \n",
    "    # making function = 0, f = Call_Value(BS model) - Market_Call_price\n",
    "    ft = ft - Y[k]\n",
    "\n",
    "    # Finding Implied Volatility \n",
    "    sol = scipy.optimize.root_scalar(ft, method='brentq', bracket={sigma_low, sigma_high})\n",
    "    implied_volatility = sol.root\n",
    "    \n",
    "    print(f\"strike:{X[k]}    Market Call: {Y[k]}   NumberOfIterations: {sol.iterations}    Implied Volatility:{implied_volatility}\")\n",
    "\n",
    "\n",
    "    \n"
   ]
  }
 ],
 "metadata": {
  "kernelspec": {
   "display_name": "Python 3 (ipykernel)",
   "language": "python",
   "name": "python3"
  },
  "language_info": {
   "codemirror_mode": {
    "name": "ipython",
    "version": 3
   },
   "file_extension": ".py",
   "mimetype": "text/x-python",
   "name": "python",
   "nbconvert_exporter": "python",
   "pygments_lexer": "ipython3",
   "version": "3.12.4"
  }
 },
 "nbformat": 4,
 "nbformat_minor": 5
}
