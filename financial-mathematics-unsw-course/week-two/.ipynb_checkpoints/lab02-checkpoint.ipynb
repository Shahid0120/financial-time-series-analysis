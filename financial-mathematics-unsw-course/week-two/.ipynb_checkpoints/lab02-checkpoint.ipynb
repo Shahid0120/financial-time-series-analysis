{
 "cells": [
  {
   "cell_type": "code",
   "execution_count": 2,
   "id": "ff8b0cde-ca9b-4078-9b6d-4d810fd3f298",
   "metadata": {},
   "outputs": [],
   "source": [
    "# Lab Week 2\n"
   ]
  },
  {
   "cell_type": "code",
   "execution_count": 3,
   "id": "468e1bee-e52c-4bee-83e7-74a3294cbcfe",
   "metadata": {},
   "outputs": [
    {
     "name": "stdout",
     "output_type": "stream",
     "text": [
      "This is one-norm 38.0, two_norm 17.776388834631177 and inf_norm 12.0\n"
     ]
    }
   ],
   "source": [
    "# Question 1\n",
    "import numpy as np\n",
    "from numpy import inf,array\n",
    "from scipy.linalg import norm \n",
    "x = np.array([-9,5,1,-4,12,-7])\n",
    "x_one_norm = norm(x, 1)\n",
    "x_two_norm = norm(x, 2)\n",
    "x_inf_norm = norm(x, inf)\n",
    "\n",
    "print(f\"This is one-norm {x_one_norm}, two_norm {x_two_norm} and inf_norm {x_inf_norm}\")"
   ]
  },
  {
   "cell_type": "code",
   "execution_count": null,
   "id": "5ab2deb7-c3be-4c60-be8b-1aaeea0133e2",
   "metadata": {},
   "outputs": [],
   "source": []
  }
 ],
 "metadata": {
  "kernelspec": {
   "display_name": "Python 3 (ipykernel)",
   "language": "python",
   "name": "python3"
  },
  "language_info": {
   "codemirror_mode": {
    "name": "ipython",
    "version": 3
   },
   "file_extension": ".py",
   "mimetype": "text/x-python",
   "name": "python",
   "nbconvert_exporter": "python",
   "pygments_lexer": "ipython3",
   "version": "3.11.5"
  }
 },
 "nbformat": 4,
 "nbformat_minor": 5
}
