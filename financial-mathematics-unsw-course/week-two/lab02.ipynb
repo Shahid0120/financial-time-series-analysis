{
 "cells": [
  {
   "cell_type": "code",
   "execution_count": 2,
   "id": "ff8b0cde-ca9b-4078-9b6d-4d810fd3f298",
   "metadata": {},
   "outputs": [],
   "source": [
    "# Lab Week 2\n"
   ]
  },
  {
   "cell_type": "code",
   "execution_count": 20,
   "id": "468e1bee-e52c-4bee-83e7-74a3294cbcfe",
   "metadata": {},
   "outputs": [
    {
     "name": "stdout",
     "output_type": "stream",
     "text": [
      "This is one-norm 38.0, two_norm 17.776388834631177 and inf_norm 12.0\n"
     ]
    }
   ],
   "source": [
    "# Question 1\n",
    "import numpy as np\n",
    "from numpy import inf,array, identity, transpose, dot\n",
    "import scipy as sci\n",
    "from scipy.linalg import norm, hilbert\n",
    "x = np.array([-9,5,1,-4,12,-7])\n",
    "x_one_norm = norm(x, 1)\n",
    "x_two_norm = norm(x, 2)\n",
    "x_inf_norm = norm(x, inf)\n",
    "\n",
    "print(f\"This is one-norm {x_one_norm}, two_norm {x_two_norm} and inf_norm {x_inf_norm}\")"
   ]
  },
  {
   "cell_type": "code",
   "execution_count": 13,
   "id": "5ab2deb7-c3be-4c60-be8b-1aaeea0133e2",
   "metadata": {},
   "outputs": [
    {
     "name": "stdout",
     "output_type": "stream",
     "text": [
      "This is one-subnorm 21.0, two_subnorm 18.734993995195193 and inf_subnorm 17.0\n"
     ]
    }
   ],
   "source": [
    "# Question 3 \n",
    "A = np.array([[3,-2,0,5],[1,8,7,0],[-9,5,1,2],[3,-2,0,5],[3,-4,0,5]])\n",
    "B = np.array([[3,-2,0,5], [1,8,7,0], [-9,5,1,2],[3,-2,0,5]])\n",
    "A_one_subnorm = norm(A, 1)\n",
    "A_two_subnorm = norm(A, 'fro')\n",
    "A_three_subnorm = norm(A, inf)\n",
    "print(f\"This is one-subnorm {A_one_subnorm}, two_subnorm {A_two_subnorm} and inf_subnorm {A_three_subnorm}\")"
   ]
  },
  {
   "cell_type": "code",
   "execution_count": 17,
   "id": "954e42c4-74e4-4c64-ad45-5f268896682f",
   "metadata": {},
   "outputs": [
    {
     "name": "stdout",
     "output_type": "stream",
     "text": [
      "This is one-subnorm 2.283333333333333, two_subnorm 1.5809062632720225 and inf_subnorm 2.283333333333333\n",
      "This is one-subnorm 2.9289682539682538, two_subnorm 1.7855271226510334 and inf_subnorm 2.9289682539682538\n",
      "This is one-subnorm 3.3182289932289937, two_subnorm 1.8954592794982188 and inf_subnorm 3.3182289932289937\n"
     ]
    }
   ],
   "source": [
    "# Question Four\n",
    "i = 5\n",
    "H = hilbert(i)\n",
    "\n",
    "while i < 20:\n",
    "    H = hilbert(i)\n",
    "    H_one_subnorm = norm(H, 1)\n",
    "    H_two_subnorm = norm(H, 'fro')\n",
    "    H_three_subnorm = norm(H, inf)\n",
    "    print(f\"This is one-subnorm {H_one_subnorm}, two_subnorm {H_two_subnorm} and inf_subnorm {H_three_subnorm}\")\n",
    "    i = i + 5\n",
    "    \n",
    "\n",
    "# All the cond_inf = inf_subnorm, for n = 5,10,15\n"
   ]
  },
  {
   "cell_type": "code",
   "execution_count": 35,
   "id": "774989ba-98d0-4ccd-917f-49b28090f2d3",
   "metadata": {},
   "outputs": [
    {
     "name": "stdout",
     "output_type": "stream",
     "text": [
      "Symetric\n"
     ]
    }
   ],
   "source": [
    "H = hilbert(5)\n",
    "if np.array_equal(H, H.T) == True:\n",
    "    print(\"Symetric\")"
   ]
  }
 ],
 "metadata": {
  "kernelspec": {
   "display_name": "Python 3 (ipykernel)",
   "language": "python",
   "name": "python3"
  },
  "language_info": {
   "codemirror_mode": {
    "name": "ipython",
    "version": 3
   },
   "file_extension": ".py",
   "mimetype": "text/x-python",
   "name": "python",
   "nbconvert_exporter": "python",
   "pygments_lexer": "ipython3",
   "version": "3.11.5"
  }
 },
 "nbformat": 4,
 "nbformat_minor": 5
}
