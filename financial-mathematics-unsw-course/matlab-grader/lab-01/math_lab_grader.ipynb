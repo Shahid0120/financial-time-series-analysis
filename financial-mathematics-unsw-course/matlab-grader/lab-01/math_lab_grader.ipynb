{
 "cells": [
  {
   "cell_type": "code",
   "execution_count": null,
   "id": "c112814b-676f-43bf-9dcb-d92ee2801732",
   "metadata": {},
   "outputs": [],
   "source": [
    "# Lab01"
   ]
  },
  {
   "cell_type": "code",
   "execution_count": null,
   "id": "e5fc52d0-fcf1-460c-bb61-42fbf3466cc8",
   "metadata": {},
   "outputs": [],
   "source": [
    "# a\n",
    "import numpy as np\n",
    "from numpy import finfo, log\n",
    "\n",
    "xmin =  - np.log(np.finfo(float).tiny)/np.log(2)\n",
    "xmin"
   ]
  },
  {
   "cell_type": "code",
   "execution_count": 4,
   "id": "1d4529e6-3242-49ec-93a8-9f40f620dca5",
   "metadata": {},
   "outputs": [
    {
     "data": {
      "text/plain": [
       "1.7976931348623157e+308"
      ]
     },
     "execution_count": 4,
     "metadata": {},
     "output_type": "execute_result"
    }
   ],
   "source": [
    "np.finfo(float).max"
   ]
  },
  {
   "cell_type": "code",
   "execution_count": 24,
   "id": "451bde1a-10b1-4c5a-ac66-d518d13720a2",
   "metadata": {},
   "outputs": [
    {
     "data": {
      "text/plain": [
       "1074.0"
      ]
     },
     "execution_count": 24,
     "metadata": {},
     "output_type": "execute_result"
    }
   ],
   "source": [
    "import numpy as np\n",
    "import math \n",
    "from numpy import finfo,log\n",
    "import sys \n",
    "x0 = - np.log(np.finfo(float).maxexp) / np.log(2)\n",
    "x2 = - np.log(math.ulp(0.0)) / np.log(2)\n",
    "x2"
   ]
  },
  {
   "cell_type": "code",
   "execution_count": null,
   "id": "c043c096-4cf9-4393-acd5-e9fc45452774",
   "metadata": {},
   "outputs": [],
   "source": [
    "import math\n",
    "import sys\n",
    "i = 1 \n",
    "while math.factorial(i) < sys.maxsize:\n",
    "    i = i + 1\n",
    "\n",
    "nd = i - 1\n",
    "nd"
   ]
  },
  {
   "cell_type": "code",
   "execution_count": null,
   "id": "1c733969-fd10-45b1-ba99-19f00da93b5d",
   "metadata": {},
   "outputs": [],
   "source": [
    "# question e  "
   ]
  },
  {
   "cell_type": "code",
   "execution_count": 6,
   "id": "4fcc25db-2243-4de1-90f2-1ea30326fbff",
   "metadata": {},
   "outputs": [
    {
     "name": "stdout",
     "output_type": "stream",
     "text": [
      "3.141592653589793\n",
      "3.141592653589793\n",
      "11\n"
     ]
    }
   ],
   "source": [
    "import math \n",
    "import sys \n",
    "from numpy import finfo, abs\n",
    "from math import pi \n",
    "approx = 0   \n",
    "n = sys.maxsize\n",
    "tolerance = 1e-15 \n",
    "\n",
    "for k in range(0, n):\n",
    "    approx += 1 / (16 ** k) *  (4 / (8*k + 1 ) - 2 / (8*k + 4) - 1 /(8*k + 5) - 1 / (8*k + 6))\n",
    "    if approx == math.pi :\n",
    "        print(approx)\n",
    "        print(math.pi)\n",
    "        npi = k + 1\n",
    "        break\n",
    "    \n",
    "print(npi)"
   ]
  },
  {
   "cell_type": "code",
   "execution_count": 8,
   "id": "d16277ed-7ae6-4e63-a382-9a31bf5f61ea",
   "metadata": {},
   "outputs": [
    {
     "data": {
      "text/plain": [
       "2.500000413701872e-21"
      ]
     },
     "execution_count": 8,
     "metadata": {},
     "output_type": "execute_result"
    }
   ],
   "source": [
    "# Question (f)\n",
    "\n",
    "# Catostrpoic Cancellation \n",
    "import numpy as np \n",
    "import scipy\n",
    "import math \n",
    "x1 = 1\n",
    "x2 = 1 + 1e-10\n",
    "mu = (x1 + x2) / 2\n",
    "sigma2 = 1/2 * ((x1 - mu) ** 2 + (x2 - mu) ** 2)\n",
    "\n",
    "sigma2 = "
   ]
  },
  {
   "cell_type": "code",
   "execution_count": 21,
   "id": "85ecb694-3a58-4092-ab09-72c907d9835f",
   "metadata": {},
   "outputs": [
    {
     "ename": "OverflowError",
     "evalue": "int too large to convert to float",
     "output_type": "error",
     "traceback": [
      "\u001b[0;31m---------------------------------------------------------------------------\u001b[0m",
      "\u001b[0;31mOverflowError\u001b[0m                             Traceback (most recent call last)",
      "Cell \u001b[0;32mIn[21], line 12\u001b[0m\n\u001b[1;32m     10\u001b[0m u \u001b[38;5;241m=\u001b[39m log(factorial(m\u001b[38;5;241m+\u001b[39mn)) \u001b[38;5;241m+\u001b[39m m\u001b[38;5;241m*\u001b[39mlog(p) \u001b[38;5;241m+\u001b[39m n\u001b[38;5;241m*\u001b[39mlog(q)\n\u001b[1;32m     11\u001b[0m logB \u001b[38;5;241m=\u001b[39m log(factorial(m\u001b[38;5;241m+\u001b[39mn)) \u001b[38;5;241m+\u001b[39m m\u001b[38;5;241m*\u001b[39mlog(p) \u001b[38;5;241m+\u001b[39m n\u001b[38;5;241m*\u001b[39mlog(q) \u001b[38;5;241m-\u001b[39m log(factorial(m)) \u001b[38;5;241m-\u001b[39m log(factorial(n))\n\u001b[0;32m---> 12\u001b[0m B \u001b[38;5;241m=\u001b[39m factorial(m\u001b[38;5;241m+\u001b[39mn) \u001b[38;5;241m*\u001b[39m (p\u001b[38;5;241m*\u001b[39m\u001b[38;5;241m*\u001b[39mm) \u001b[38;5;241m*\u001b[39m (q\u001b[38;5;241m*\u001b[39m\u001b[38;5;241m*\u001b[39mm) \u001b[38;5;241m/\u001b[39m (factorial(m)\u001b[38;5;241m*\u001b[39mfactorial(n))\n\u001b[1;32m     13\u001b[0m \u001b[38;5;28mprint\u001b[39m(B)\n\u001b[1;32m     14\u001b[0m \u001b[38;5;28mprint\u001b[39m(logB)\n",
      "\u001b[0;31mOverflowError\u001b[0m: int too large to convert to float"
     ]
    }
   ],
   "source": [
    "# Question g \n",
    "from math import factorial, log\n",
    "import sys \n",
    "m = 10 ** 3\n",
    "n = 10 ** 2\n",
    "p = 10 ** -2 \n",
    "q = 1 - (10 ** -2)\n",
    "\n",
    "l = log(factorial(m)) + log(factorial(n))\n",
    "u = log(factorial(m+n)) + m*log(p) + n*log(q)\n",
    "logB = log(factorial(m+n)) + m*log(p) + n*log(q) - log(factorial(m)) - log(factorial(n))\n",
    "B = factorial(m+n) * (p**m) * (q**m) / (factorial(m)*factorial(n))\n",
    "print(B)\n",
    "# overflow !\n",
    "print(logB)"
   ]
  },
  {
   "cell_type": "code",
   "execution_count": 50,
   "id": "1cc2ef37-21b7-42eb-bbf8-ed50c063b7ce",
   "metadata": {},
   "outputs": [
    {
     "name": "stdout",
     "output_type": "stream",
     "text": [
      "5e-324\n"
     ]
    }
   ],
   "source": [
    "print(math.ulp(0.0))"
   ]
  },
  {
   "cell_type": "code",
   "execution_count": 56,
   "id": "1f26a0eb-8e82-433b-a946-b304d7337d1d",
   "metadata": {},
   "outputs": [
    {
     "data": {
      "text/plain": [
       "0.0"
      ]
     },
     "execution_count": 56,
     "metadata": {},
     "output_type": "execute_result"
    }
   ],
   "source": [
    "import scipy \n",
    "m = 10 ** 3\n",
    "n = 10 ** 2\n",
    "p = 10 ** -2 \n",
    "logB = scipy.stats.binom.pmf(m,n,p)\n",
    "# rounding error problem!\n"
   ]
  }
 ],
 "metadata": {
  "kernelspec": {
   "display_name": "Python 3 (ipykernel)",
   "language": "python",
   "name": "python3"
  },
  "language_info": {
   "codemirror_mode": {
    "name": "ipython",
    "version": 3
   },
   "file_extension": ".py",
   "mimetype": "text/x-python",
   "name": "python",
   "nbconvert_exporter": "python",
   "pygments_lexer": "ipython3",
   "version": "3.11.5"
  }
 },
 "nbformat": 4,
 "nbformat_minor": 5
}
