{
 "cells": [
  {
   "cell_type": "code",
   "execution_count": null,
   "id": "a11a7606-eb1f-455f-8593-0243686eb256",
   "metadata": {},
   "outputs": [
    {
     "name": "stdout",
     "output_type": "stream",
     "text": [
      "0.00500497497508584\n",
      "0.050004749978569775\n",
      "0.2500037670986005\n",
      "0.5000024942482303\n"
     ]
    }
   ],
   "source": [
    "import numpy as np \n",
    "import scipy \n",
    "\n",
    "def sXCalculation(N,T, n:list):\n",
    "    sx = 0\n",
    "    for val in n:\n",
    "        sx += np.divide(np.multiply(T,val), N)\n",
    "\n",
    "    return sx\n",
    "\n",
    "def functionU(N,T, num, alpha, beta, U1, U0):\n",
    "\n",
    "    U_n_minus_one = U0\n",
    "    U_n = U1\n",
    "    U_n_coefficient = -2 * (num ** 2)/ (T/N)**2 - num / (T/N) - 1\n",
    "    U_n_minus_one_coefficient = num**2 / (T/N)**2\n",
    "    U_n_one_coefficient = num**2/(T/N)**2 + num/(T/N)\n",
    "\n",
    "    delta_x = T/N\n",
    "    \n",
    "    iter = 1\n",
    "    while iter < num + 1:\n",
    "        x_n = iter * delta_x\n",
    "        U_n_plus_one = (- np.multiply(U_n_minus_one, U_n_minus_one_coefficient) - np.multiply(U_n,U_n_coefficient)) / U_n_one_coefficient\n",
    "        U_n_minus_one = U_n\n",
    "        U_n =  U_n_plus_one\n",
    "        iter += 1 \n",
    "\n",
    "    return U_n\n",
    "\n",
    "N = 10 ** 6 \n",
    "T = 10\n",
    "n = [1000, 30000, 60000, 90000]\n",
    "alpha = 0 \n",
    "beta = 1/2\n",
    "# sx calculation \n",
    "sx = sXCalculation(N, T, n)\n",
    "\n",
    "# U1 calculation \n",
    "U1 = np.divide(T, np.multiply(2, N)) + 0\n",
    "\n",
    "\n",
    "# vi\n",
    "num = 1000\n",
    "U1000 = functionU(N,T, num, 0, 1/2, U1, 0)\n",
    "print(U1000)\n",
    "\n",
    "\n",
    "num = 10000\n",
    "U10000 = functionU(N,T, num, 0, 1/2, U1, 0)\n",
    "print(U10000)\n",
    "\n",
    "U50000 = functionU(N,T, 50000, 0, 1/2, U1, 0)\n",
    "print(U50000)\n",
    "\n",
    "U100000 = functionU(N,T, 100000, 0, 1/2, U1, 0)\n",
    "print(U100000)\n",
    "\n",
    "# Compare with Bessel function\n",
    "x_values = np.linspace(0, T, N + 1)\n",
    "U_approx = [functionU(N, T, i, alpha, beta, U1, 0) for i in range(N + 1)]\n",
    "U_exact = scipy.special.jv(1, x_values)\n",
    "normbessel1 = np.linalg.norm(U_approx - U_exact, np.inf)\n",
    "normbessel1 = round(normbessel1, 5)\n",
    "print(f\"R5normbessel1 = {normbessel1}\")\n"
   ]
  },
  {
   "cell_type": "code",
   "execution_count": null,
   "id": "07d901d9-66b9-4eec-9087-77c5a4762050",
   "metadata": {},
   "outputs": [],
   "source": []
  }
 ],
 "metadata": {
  "kernelspec": {
   "display_name": "Python 3 (ipykernel)",
   "language": "python",
   "name": "python3"
  },
  "language_info": {
   "codemirror_mode": {
    "name": "ipython",
    "version": 3
   },
   "file_extension": ".py",
   "mimetype": "text/x-python",
   "name": "python",
   "nbconvert_exporter": "python",
   "pygments_lexer": "ipython3",
   "version": "3.11.5"
  }
 },
 "nbformat": 4,
 "nbformat_minor": 5
}
