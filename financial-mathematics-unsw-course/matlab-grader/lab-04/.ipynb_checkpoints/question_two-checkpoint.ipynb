{
 "cells": [
  {
   "cell_type": "code",
   "execution_count": 1,
   "id": "a11a7606-eb1f-455f-8593-0243686eb256",
   "metadata": {},
   "outputs": [
    {
     "ename": "NameError",
     "evalue": "name 'delta_x' is not defined",
     "output_type": "error",
     "traceback": [
      "\u001b[0;31m---------------------------------------------------------------------------\u001b[0m",
      "\u001b[0;31mNameError\u001b[0m                                 Traceback (most recent call last)",
      "Cell \u001b[0;32mIn[1], line 44\u001b[0m\n\u001b[1;32m     42\u001b[0m \u001b[38;5;66;03m# vi\u001b[39;00m\n\u001b[1;32m     43\u001b[0m num \u001b[38;5;241m=\u001b[39m \u001b[38;5;241m1000\u001b[39m\n\u001b[0;32m---> 44\u001b[0m U1000 \u001b[38;5;241m=\u001b[39m functionU(N,T, num, \u001b[38;5;241m0\u001b[39m, \u001b[38;5;241m1\u001b[39m\u001b[38;5;241m/\u001b[39m\u001b[38;5;241m2\u001b[39m, U1, \u001b[38;5;241m0\u001b[39m)\n\u001b[1;32m     45\u001b[0m \u001b[38;5;66;03m#print(U1000)\u001b[39;00m\n\u001b[1;32m     48\u001b[0m num \u001b[38;5;241m=\u001b[39m \u001b[38;5;241m10000\u001b[39m\n",
      "Cell \u001b[0;32mIn[1], line 23\u001b[0m, in \u001b[0;36mfunctionU\u001b[0;34m(N, T, num, alpha, beta, U1, U0)\u001b[0m\n\u001b[1;32m     20\u001b[0m \u001b[38;5;28miter\u001b[39m \u001b[38;5;241m=\u001b[39m \u001b[38;5;241m1\u001b[39m\n\u001b[1;32m     21\u001b[0m \u001b[38;5;28;01mwhile\u001b[39;00m \u001b[38;5;28miter\u001b[39m \u001b[38;5;241m<\u001b[39m num \u001b[38;5;241m+\u001b[39m \u001b[38;5;241m1\u001b[39m:\n\u001b[1;32m     22\u001b[0m     \u001b[38;5;66;03m# U_n_plus_one = (- np.multiply(U_n_minus_one, U_n_minus_one_coefficient) - np.multiply(U_n,U_n_coefficient)) / U_n_one_coefficient\u001b[39;00m\n\u001b[0;32m---> 23\u001b[0m     U_n_plus_one \u001b[38;5;241m=\u001b[39m (\u001b[38;5;241m-\u001b[39mU_n_minus_one \u001b[38;5;241m/\u001b[39m (delta_x \u001b[38;5;241m*\u001b[39m\u001b[38;5;241m*\u001b[39m \u001b[38;5;241m2\u001b[39m) \u001b[38;5;241m-\u001b[39m U_n \u001b[38;5;241m*\u001b[39m (\u001b[38;5;241m2\u001b[39m \u001b[38;5;241m/\u001b[39m (delta_x \u001b[38;5;241m*\u001b[39m\u001b[38;5;241m*\u001b[39m \u001b[38;5;241m2\u001b[39m) \u001b[38;5;241m+\u001b[39m x_n \u001b[38;5;241m/\u001b[39m delta_x \u001b[38;5;241m+\u001b[39m (x_n \u001b[38;5;241m*\u001b[39m\u001b[38;5;241m*\u001b[39m \u001b[38;5;241m2\u001b[39m \u001b[38;5;241m-\u001b[39m \u001b[38;5;241m1\u001b[39m))) \u001b[38;5;241m/\u001b[39m (\u001b[38;5;241m1\u001b[39m \u001b[38;5;241m/\u001b[39m (delta_x \u001b[38;5;241m*\u001b[39m\u001b[38;5;241m*\u001b[39m \u001b[38;5;241m2\u001b[39m) \u001b[38;5;241m+\u001b[39m x_n \u001b[38;5;241m/\u001b[39m delta_x)\n\u001b[1;32m     24\u001b[0m     U_n_minus_one \u001b[38;5;241m=\u001b[39m U_n\n\u001b[1;32m     25\u001b[0m     U_n \u001b[38;5;241m=\u001b[39m  U_n_plus_one\n",
      "\u001b[0;31mNameError\u001b[0m: name 'delta_x' is not defined"
     ]
    }
   ],
   "source": [
    "import numpy as np \n",
    "import scipy \n",
    "\n",
    "def sXCalculation(N,T, n:list):\n",
    "    sx = 0\n",
    "    for val in n:\n",
    "        sx += np.divide(np.multiply(T,val), N)\n",
    "\n",
    "    return sx\n",
    "\n",
    "def functionU(N,T, num, alpha, beta, U1, U0):\n",
    "\n",
    "    U_n_minus_one = U0\n",
    "    U_n = U1\n",
    "    U_n_coefficient = -2 * (num ** 2)/ (T/N)**2 - num / (T/N) - 1\n",
    "    U_n_minus_one_coefficient = num**2 / (T/N)**2\n",
    "    U_n_one_coefficient = num**2/(T/N)**2 + num/(T/N)\n",
    "\n",
    "    delta_x = T/N\n",
    "    iter = 1\n",
    "    while iter < num + 1:\n",
    "        # U_n_plus_one = (- np.multiply(U_n_minus_one, U_n_minus_one_coefficient) - np.multiply(U_n,U_n_coefficient)) / U_n_one_coefficient\n",
    "        U_n_plus_one = (-U_n_minus_one / (delta_x ** 2) - U_n * (2 / (delta_x ** 2) + x_n / delta_x + (x_n ** 2 - 1))) / (1 / (delta_x ** 2) + x_n / delta_x)\n",
    "        U_n_minus_one = U_n\n",
    "        U_n =  U_n_plus_one\n",
    "        iter += 1 \n",
    "\n",
    "    return U_n\n",
    "\n",
    "N = 10 ** 6 \n",
    "T = 10\n",
    "n = [1000, 30000, 60000, 90000]\n",
    "alpha = 0 \n",
    "beta = 1/2\n",
    "# sx calculation \n",
    "sx = sXCalculation(N, T, n)\n",
    "\n",
    "# U1 calculation \n",
    "U1 = np.divide(T, np.multiply(2, N)) + 0\n",
    "\n",
    "\n",
    "# vi\n",
    "num = 1000\n",
    "U1000 = functionU(N,T, num, 0, 1/2, U1, 0)\n",
    "#print(U1000)\n",
    "\n",
    "\n",
    "num = 10000\n",
    "U10000 = functionU(N,T, num, 0, 1/2, U1, 0)\n",
    "#print(U10000)\n",
    "\n",
    "U50000 = functionU(N,T, 50000, 0, 1/2, U1, 0)\n",
    "print(U50000)\n",
    "\n",
    "U100000 = functionU(N,T, 100000, 0, 1/2, U1, 0)\n",
    "print(U100000)\n",
    "\n",
    "\n"
   ]
  }
 ],
 "metadata": {
  "kernelspec": {
   "display_name": "Python 3 (ipykernel)",
   "language": "python",
   "name": "python3"
  },
  "language_info": {
   "codemirror_mode": {
    "name": "ipython",
    "version": 3
   },
   "file_extension": ".py",
   "mimetype": "text/x-python",
   "name": "python",
   "nbconvert_exporter": "python",
   "pygments_lexer": "ipython3",
   "version": "3.11.5"
  }
 },
 "nbformat": 4,
 "nbformat_minor": 5
}
