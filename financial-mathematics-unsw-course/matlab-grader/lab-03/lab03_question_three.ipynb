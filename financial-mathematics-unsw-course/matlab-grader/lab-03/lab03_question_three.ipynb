{
 "cells": [
  {
   "cell_type": "markdown",
   "id": "ebcac596-60ca-4e23-8088-2a705ca2c1b3",
   "metadata": {},
   "source": [
    "# Question three"
   ]
  },
  {
   "cell_type": "code",
   "execution_count": 1,
   "id": "54c9ca00-5e59-475f-89b1-816dc2e0c331",
   "metadata": {},
   "outputs": [],
   "source": [
    "import numpy as np\n",
    "from numpy.random import randn, seed\n",
    "n = 10 ** 6\n",
    "seed(1)\n",
    "u = randn(n,1)\n",
    "v = randn(n,1)\n",
    "b = randn(n,1)"
   ]
  },
  {
   "cell_type": "code",
   "execution_count": 1,
   "id": "78f7528e-98b7-4acf-ba3d-288227aea641",
   "metadata": {},
   "outputs": [
    {
     "name": "stdout",
     "output_type": "stream",
     "text": [
      "The first five entries in the row vector binv5 are: [ 1.92654264 -2.29245109  0.04834829  1.19369354 -0.3824094 ]\n"
     ]
    }
   ],
   "source": [
    "import numpy as np\n",
    "\n",
    "# Set seed and generate random vectors\n",
    "np.random.seed(1)\n",
    "n = 10**6\n",
    "u = np.random.randn(n, 1)\n",
    "v = np.random.randn(n, 1)\n",
    "b = np.random.randn(n, 1)\n",
    "\n",
    "# Define the lower triangular matrix L indirectly\n",
    "\n",
    "# Since L is lower triangular with ones on and below the diagonal,\n",
    "# we can use forward substitution to solve L * x = b.\n",
    "\n",
    "def forward_substitution(L, b):\n",
    "    n = b.shape[0]\n",
    "    x = np.zeros_like(b)\n",
    "    for i in range(n):\n",
    "        x[i] = b[i] - L[i, :i] @ x[:i]\n",
    "    return x\n",
    "\n",
    "# We don't need to create L explicitly, we know it's lower triangular with ones on and below the diagonal.\n",
    "# For such L, the forward substitution can be simplified:\n",
    "def simplified_forward_substitution(b):\n",
    "    x = np.zeros_like(b) \n",
    "    n = len(b)\n",
    "    x[0] = b[0]\n",
    "    for i in range(1, n):\n",
    "        x[i] = b[i] - np.sum(x[:i])\n",
    "    return x\n",
    "\n",
    "# Compute L_inv_b using the simplified forward substitution\n",
    "L_inv_b = simplified_forward_substitution(b)\n",
    "\n",
    "# Extract the first five entries\n",
    "b_inv5 = L_inv_b[:5].flatten()\n",
    "\n",
    "print(\"The first five entries in the row vector binv5 are:\", b_inv5)\n"
   ]
  },
  {
   "cell_type": "code",
   "execution_count": 1,
   "id": "37ed4196-888f-4adb-9ffe-e9332d6d2963",
   "metadata": {},
   "outputs": [
    {
     "name": "stdout",
     "output_type": "stream",
     "text": [
      "Done\n"
     ]
    }
   ],
   "source": [
    "import numpy as np\n",
    "\n",
    "# Set seed and generate random vectors\n",
    "np.random.seed(1)\n",
    "n = 10**6\n",
    "u = np.random.randn(n, 1)\n",
    "v = np.random.randn(n, 1)\n",
    "b = np.random.randn(n, 1)\n",
    "\n",
    "# Define the lower triangular matrix L indirectly\n",
    "\n",
    "# Since L is lower triangular with ones on and below the diagonal,\n",
    "# we can use forward substitution to solve L * x = b.\n",
    "\n",
    "def forward_substitution(L, b):\n",
    "    \"\"\" Perform forward substitution to solve Lx = b for lower triangular L \"\"\"\n",
    "    n = b.shape[0]\n",
    "    x = np.zeros_like(b)\n",
    "    for i in range(n):\n",
    "        x[i] = b[i] - L[i, :i] @ x[:i]\n",
    "    return x\n",
    "\n",
    "# We don't need to create L explicitly, we know it's lower triangular with ones on and below the diagonal.\n",
    "# For such L, the forward substitution can be simplified:\n",
    "def simplified_forward_substitution(b):\n",
    "    \"\"\" Simplified forward substitution for a specific L with ones on and below the diagonal \"\"\"\n",
    "    n = len(b)\n",
    "    x = np.zeros_like(b)\n",
    "    x[0] = b[0]\n",
    "    for i in range(1, n):\n",
    "        x[i] = b[i] - np.sum(x[:i])\n",
    "    return x\n",
    "\n",
    "# Compute L_inv_b using the simplified forward substitution\n",
    "L_inv_u = simplified_forward_substitution(u)\n",
    "\n",
    "print(\"Done\")"
   ]
  },
  {
   "cell_type": "code",
   "execution_count": 2,
   "id": "c0a96377-f159-4c70-8ccf-7de3374f4a10",
   "metadata": {},
   "outputs": [
    {
     "data": {
      "text/plain": [
       "(1000000, 1)"
      ]
     },
     "execution_count": 2,
     "metadata": {},
     "output_type": "execute_result"
    }
   ],
   "source": [
    "np.shape(L_inv_u)"
   ]
  },
  {
   "cell_type": "code",
   "execution_count": 5,
   "id": "da253df2-2523-40d9-9828-f133317f593e",
   "metadata": {},
   "outputs": [
    {
     "data": {
      "text/plain": [
       "array([[-408.34638972]])"
      ]
     },
     "execution_count": 5,
     "metadata": {},
     "output_type": "execute_result"
    }
   ],
   "source": [
    "sol = 1 + np.dot(v.T, L_inv_u)\n",
    "sol"
   ]
  },
  {
   "cell_type": "code",
   "execution_count": 7,
   "id": "e2ad63f6-9826-41ff-a01d-d2d26bd0aac7",
   "metadata": {},
   "outputs": [
    {
     "data": {
      "text/plain": [
       "array([[-332.39611913]])"
      ]
     },
     "execution_count": 7,
     "metadata": {},
     "output_type": "execute_result"
    }
   ],
   "source": [
    "import numpy as np\n",
    "\n",
    "# Set seed and generate random vectors\n",
    "np.random.seed(1)\n",
    "n = 10**6\n",
    "u = np.random.randn(n, 1)\n",
    "v = np.random.randn(n, 1)\n",
    "b = np.random.randn(n, 1)\n",
    "\n",
    "# Define the lower triangular matrix L indirectly\n",
    "\n",
    "# Since L is lower triangular with ones on and below the diagonal,\n",
    "# we can use forward substitution to solve L * x = b.\n",
    "\n",
    "def forward_substitution(L, b):\n",
    "    \"\"\" Perform forward substitution to solve Lx = b for lower triangular L \"\"\"\n",
    "    n = b.shape[0]\n",
    "    x = np.zeros_like(b)\n",
    "    for i in range(n):\n",
    "        x[i] = b[i] - L[i, :i] @ x[:i]\n",
    "    return x\n",
    "\n",
    "# We don't need to create L explicitly, we know it's lower triangular with ones on and below the diagonal.\n",
    "# For such L, the forward substitution can be simplified:\n",
    "def simplified_forward_substitution(b):\n",
    "    \"\"\" Simplified forward substitution for a specific L with ones on and below the diagonal \"\"\"\n",
    "    n = len(b)\n",
    "    x = np.zeros_like(b)\n",
    "    x[0] = b[0]\n",
    "    for i in range(1, n):\n",
    "        x[i] = b[i] - np.sum(x[:i])\n",
    "    return x\n",
    "\n",
    "# Compute L_inv_b using the simplified forward substitution\n",
    "L_inv_b = simplified_forward_substitution(b)\n",
    "\n",
    "sol_2 = np.dot(v.T, L_inv_b)\n",
    "sol_2"
   ]
  },
  {
   "cell_type": "code",
   "execution_count": 9,
   "id": "be528757-7d4a-46a5-931d-bec142bc51b4",
   "metadata": {},
   "outputs": [
    {
     "name": "stdout",
     "output_type": "stream",
     "text": [
      "1823.8533621827544\n"
     ]
    }
   ],
   "source": [
    "denom = -408.34638972\n",
    "num = -332.39611913\n",
    "scalar = num / denom\n",
    "vector_sol = L_inv_b - (scalar * L_inv_u)\n",
    "norm = np.linalg.norm(vector_sol, 2)\n",
    "print(norm)"
   ]
  }
 ],
 "metadata": {
  "kernelspec": {
   "display_name": "Python 3 (ipykernel)",
   "language": "python",
   "name": "python3"
  },
  "language_info": {
   "codemirror_mode": {
    "name": "ipython",
    "version": 3
   },
   "file_extension": ".py",
   "mimetype": "text/x-python",
   "name": "python",
   "nbconvert_exporter": "python",
   "pygments_lexer": "ipython3",
   "version": "3.11.5"
  }
 },
 "nbformat": 4,
 "nbformat_minor": 5
}
