{
 "cells": [
  {
   "cell_type": "code",
   "execution_count": 1,
   "id": "db55d7b8-4c1e-49fe-aa74-21efff5c57c5",
   "metadata": {},
   "outputs": [],
   "source": [
    "# Questions 3"
   ]
  },
  {
   "cell_type": "code",
   "execution_count": null,
   "id": "20443277-14c5-4295-b112-bb7822815eb7",
   "metadata": {},
   "outputs": [],
   "source": [
    "import numpy as np\n",
    "from numpy.random import randn, seed\n",
    "n = 10 ** 6\n",
    "seed(1)\n",
    "u = randn(n,1)\n",
    "v = randn(n,1)\n",
    "b = randn(n,1)\n",
    "\n",
    "\n",
    "A = np.tril(np.ones((n,n)))\n"
   ]
  },
  {
   "cell_type": "code",
   "execution_count": null,
   "id": "3c129bc5-e092-4943-8cd2-5d729d8595c7",
   "metadata": {},
   "outputs": [],
   "source": []
  }
 ],
 "metadata": {
  "kernelspec": {
   "display_name": "Python 3 (ipykernel)",
   "language": "python",
   "name": "python3"
  },
  "language_info": {
   "codemirror_mode": {
    "name": "ipython",
    "version": 3
   },
   "file_extension": ".py",
   "mimetype": "text/x-python",
   "name": "python",
   "nbconvert_exporter": "python",
   "pygments_lexer": "ipython3",
   "version": "3.11.5"
  }
 },
 "nbformat": 4,
 "nbformat_minor": 5
}
