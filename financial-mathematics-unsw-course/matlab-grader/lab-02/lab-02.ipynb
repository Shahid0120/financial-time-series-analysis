{
 "cells": [
  {
   "cell_type": "code",
   "execution_count": 1,
   "id": "c560fca5-62b1-4e01-9732-dd3fffcd1711",
   "metadata": {},
   "outputs": [],
   "source": [
    "# Matlab Grader"
   ]
  },
  {
   "cell_type": "code",
   "execution_count": 2,
   "id": "7e42e7b2-cc5e-4812-ad54-dab88a396b70",
   "metadata": {},
   "outputs": [],
   "source": [
    "# Question One"
   ]
  },
  {
   "cell_type": "code",
   "execution_count": 4,
   "id": "23afebf1-cfc7-4e26-8e0e-d17ad899c51c",
   "metadata": {},
   "outputs": [
    {
     "name": "stdout",
     "output_type": "stream",
     "text": [
      "[[3.14159260e-04 6.28318489e-04 9.42477657e-04 ... 3.07827444e-02\n",
      "  3.10967533e-02 3.14107591e-02]\n",
      " [6.28318489e-04 1.25663673e-03 1.88495448e-03 ... 6.15363129e-02\n",
      "  6.21634285e-02 6.27905195e-02]\n",
      " [9.42477657e-04 1.88495448e-03 2.82742962e-03 ... 9.22315572e-02\n",
      "  9.31699766e-02 9.41083133e-02]\n",
      " ...\n",
      " [3.07827444e-02 6.15363129e-02 9.22315572e-02 ... 1.24086407e-01\n",
      "  9.34827648e-02 6.27905195e-02]\n",
      " [3.10967533e-02 6.21634285e-02 9.31699766e-02 ... 9.34827648e-02\n",
      "  6.24769771e-02 3.14107591e-02]\n",
      " [3.14107591e-02 6.27905195e-02 9.41083133e-02 ... 6.27905195e-02\n",
      "  3.14107591e-02 1.22464680e-16]]\n"
     ]
    }
   ],
   "source": [
    "import numpy as np \n",
    "from numpy import array, pi,sin \n",
    "m=100\n",
    "n=100\n",
    "k=array([range(1,m+1)])\n",
    "l=array([range(1,n+1)])\n",
    "A = sin(pi*k.T@l/(m*n))\n",
    "print(A)"
   ]
  },
  {
   "cell_type": "code",
   "execution_count": 60,
   "id": "9a670477-7398-4259-b58e-d6ff3b455bc8",
   "metadata": {},
   "outputs": [
    {
     "name": "stdout",
     "output_type": "stream",
     "text": [
      "61.56115154352602\n"
     ]
    }
   ],
   "source": [
    "# What type of Matrix is A?\n",
    "import scipy\n",
    "\n",
    "norm2mat = scipy.linalg.norm(A, 2)\n",
    "print(norm2mat)"
   ]
  },
  {
   "cell_type": "code",
   "execution_count": 76,
   "id": "0e9473b6-685f-49d8-9756-812627522cfb",
   "metadata": {},
   "outputs": [
    {
     "data": {
      "text/plain": [
       "61.56115154352607"
      ]
     },
     "execution_count": 76,
     "metadata": {},
     "output_type": "execute_result"
    }
   ],
   "source": [
    "from numpy import inf\n",
    "eig, eigvectors = scipy.linalg.eig(A)\n",
    "\n",
    "norm2eig = scipy.linalg.norm(eig, inf)\n",
    "# or \n",
    "#norm2eig = max(eig)\n",
    "norm2eig "
   ]
  },
  {
   "cell_type": "code",
   "execution_count": 77,
   "id": "af42414e-913d-4480-90aa-b3d74055669a",
   "metadata": {},
   "outputs": [
    {
     "data": {
      "text/plain": [
       "0.0"
      ]
     },
     "execution_count": 77,
     "metadata": {},
     "output_type": "execute_result"
    }
   ],
   "source": [
    "abs(norm2mat - norm2eig)"
   ]
  },
  {
   "cell_type": "code",
   "execution_count": 79,
   "id": "5810c0d6-2a5c-4b88-925d-be8a8e6b0c81",
   "metadata": {},
   "outputs": [
    {
     "data": {
      "text/plain": [
       "2.4608829827780084e+20"
      ]
     },
     "execution_count": 79,
     "metadata": {},
     "output_type": "execute_result"
    }
   ],
   "source": [
    "cond2mat = np.linalg.cond(A)\n",
    "cond2mat"
   ]
  },
  {
   "cell_type": "code",
   "execution_count": null,
   "id": "85f795c2-2f42-4ff5-855d-7329f9720c28",
   "metadata": {},
   "outputs": [],
   "source": []
  }
 ],
 "metadata": {
  "kernelspec": {
   "display_name": "Python 3 (ipykernel)",
   "language": "python",
   "name": "python3"
  },
  "language_info": {
   "codemirror_mode": {
    "name": "ipython",
    "version": 3
   },
   "file_extension": ".py",
   "mimetype": "text/x-python",
   "name": "python",
   "nbconvert_exporter": "python",
   "pygments_lexer": "ipython3",
   "version": "3.11.5"
  }
 },
 "nbformat": 4,
 "nbformat_minor": 5
}
