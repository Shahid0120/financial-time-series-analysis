{
 "cells": [
  {
   "cell_type": "markdown",
   "id": "fc17f5ad-60ba-4330-a499-0b086c62a58c",
   "metadata": {},
   "source": [
    "# Lab04 \n",
    "20th June 2024 \n",
    "Today objectiove is datafitting (fitting linear models and quadratic fitting) using numpy, scipy. \n"
   ]
  },
  {
   "cell_type": "markdown",
   "id": "cf102bea-15bb-4129-bf2a-eb6fea11b6f9",
   "metadata": {},
   "source": [
    "# Question One"
   ]
  },
  {
   "cell_type": "code",
   "execution_count": 168,
   "id": "beda0ff5-ccb6-428c-a932-40f06f002a88",
   "metadata": {},
   "outputs": [
    {
     "name": "stdout",
     "output_type": "stream",
     "text": [
      "(array([[0.75357143],\n",
      "       [1.39285714]]), array([], dtype=float64), 2, array([28.  ,  1.75]))\n"
     ]
    }
   ],
   "source": [
    "import numpy as np \n",
    "import scipy\n",
    "import matplotlib.pyplot as plt\n",
    "from numpy import empty, linspace, array, ones, log, exp, reshape\n",
    "from scipy.linalg import lstsq, solve, qr, solve_triangular, svd, norm\n",
    "from numpy.linalg import cond\n",
    "from matplotlib.pyplot import figure, plot, xlim, xlabel, ylabel, grid, legend, title\n",
    "\n",
    "# defining variables\n",
    "m = 7 \n",
    "tdat = np.array([0, 0.5, 1, 1.5, 2, 2.5, 3])\n",
    "ydat = np.array([1.2, 1.5, 1.9, 2.4, 3.2, 4.3, 5.4])\n",
    "\n",
    "# Linear regression with 2 parameters constant + B\n",
    "A = ones((np.shape(ydat)[0], 2))\n",
    "A[:,1] = tdat\n",
    "\n",
    "# find our regression parameters\n",
    "x1 = scipy.linalg.lstsq(A, ydat)\n",
    "\n",
    "# using normal questions (A.TA)x = A.Ty\n",
    "x2 = scipy.linalg.lstsq(A.T @ A , A.T @ ydat.reshape((7,1)))\n",
    "print(x2)\n",
    "# Using QR a.k.a EigenDecomposition so Ax = y -> QRx=y \n",
    "Q, R = scipy.linalg.qr(A)\n",
    "x3 = scipy.linalg.lstsq(np.dot(Q,R), ydat)\n",
    "\n",
    "# using SVD\n",
    "U, S, VT = scipy.linalg.svd(A, full_matrices=False)\n",
    "z = U.T @ ydat/S\n",
    "x4 = VT.T @ z\n",
    "\n"
   ]
  },
  {
   "cell_type": "code",
   "execution_count": 76,
   "id": "93ab5a4b-9539-400c-a3a8-0ba38dfcf568",
   "metadata": {},
   "outputs": [
    {
     "name": "stdout",
     "output_type": "stream",
     "text": [
      "for the normal system Ax = y we have condition number 3.9999999999999987\n",
      " For the normal question we have 15.999999999999996\n",
      " and for QR decompostion we have 4.0\n",
      "for SVD the condition number is 4.000000000000001\n"
     ]
    }
   ],
   "source": [
    "# calcualting condition numbers for each method\n",
    "# condition number for Ax = y \n",
    "condA = np.linalg.cond(A)\n",
    "# condition number normal question A^TAx = A^Ty\n",
    "condATA = np.linalg.cond(A.T @ A)\n",
    "# condition numbers for QR decomposition \n",
    "condR = np.linalg.cond(Q @ R)\n",
    "# condition number SVD\n",
    "max_sig_value = np.linalg.norm(S, np.inf)\n",
    "min_sig_value = np.linalg.norm(S, -np.inf)\n",
    "condSVD = np.divide(max_sig_value, min_sig_value)\n",
    "\n",
    "print(f\"for the normal system Ax = y we have condition number {condA}\\n.For the normal question we have {condATA}\\n. For QR decompostion we have {condR}\")\n",
    "print(f\"for SVD the condition number is {condSVD}\")"
   ]
  },
  {
   "cell_type": "markdown",
   "id": "c1138964-2cf0-458a-a9fc-c452e999f7a3",
   "metadata": {},
   "source": [
    "Analysis : the lower the condition number the less sensitive the matrix is and thus the more stable. Clearly, the smallest condition numbers for QR/the basic system question. Now from this clearly there is underflow from QR, SVD and normal system so choosing which method to use then requires which ones is the most accurate/ or storage or matrix !"
   ]
  },
  {
   "cell_type": "markdown",
   "id": "8baf1f1d-0909-4935-8c18-d6ae00ab9b72",
   "metadata": {},
   "source": [
    "### Measuring Accuracy "
   ]
  },
  {
   "cell_type": "code",
   "execution_count": 186,
   "id": "0d7d6698-0fd3-4313-9842-c64884e0ae8e",
   "metadata": {},
   "outputs": [
    {
     "name": "stdout",
     "output_type": "stream",
     "text": [
      "Ax =y : residual = 0.7967857142857149\n",
      " A.TAx = A.Ty : residual = 0.8926285421639363\n",
      " QRx = y : residual = 0.7967857142857142\n"
     ]
    }
   ],
   "source": [
    "# technically lstq gives out the two norm so we dont actually have to compute it, but we can for arguement stake!\n",
    "\n",
    "# calculates lhs given param_object from return lstq from scipy \n",
    "def calculatinglhs(param_object):\n",
    "    # Ax = y\n",
    "    A2 = ones((7,2))\n",
    "    \n",
    "    # Fill the first column of A2 with paramter for given method\n",
    "    A2[:, 0] = param_object[0][0]\n",
    "    \n",
    "    # Fill the second column of A2 with params for given method\n",
    "    A2[:, 1] = param_object[0][1]\n",
    "    \n",
    "    # Create x as a 7x2 array with ones in the first column and tdat in the second column\n",
    "    x = np.ones((7, 2))\n",
    "    x[:, 1] = tdat\n",
    "    sol2 = np.array(np.diag(np.dot(A2, x.T)))\n",
    "\n",
    "    # find 2-norm residuals\n",
    "    r2nrm = np.linalg.norm(sol2 - ydat, 2)\n",
    "\n",
    "    return sol2, r2nrm\n",
    "\n",
    "# Ax = y\n",
    "r1nrm = x1[1]\n",
    "\n",
    "# x2 is normal equation \n",
    "sol2, res2nrm = calculatinglhs(x2)\n",
    "# QRx = y \n",
    "r3nrm = x3[1]\n",
    "# VdiagUx = y \n",
    "\n",
    "\n",
    "print(f\"Ax =y : residual = {r1nrm}\\n A.TAx = A.Ty : residual = {r2nrm}\\n QRx = y : residual = {r3nrm}\")"
   ]
  },
  {
   "cell_type": "code",
   "execution_count": 187,
   "id": "ce891eb8-e415-459c-8a66-b47ed70ce260",
   "metadata": {},
   "outputs": [
    {
     "name": "stdout",
     "output_type": "stream",
     "text": [
      "[-0.44642857 -0.05        0.24642857  0.44285714  0.33928571 -0.06428571\n",
      " -0.46785714]\n"
     ]
    },
    {
     "data": {
      "image/png": "[encoded data removed]",
      "text/plain": [
       "<Figure size 640x480 with 1 Axes>"
      ]
     },
     "metadata": {},
     "output_type": "display_data"
    }
   ],
   "source": [
    "# For each method find the y^ (estimate)\n",
    "sol1, res1 = calculatinglhs(x1)\n",
    "sol2, res2 = calculatinglhs(x2)\n",
    "sol3, res3 = calculatinglhs(x3)\n",
    "\n",
    "# Calcualting y hat for each method\n",
    "diff1 = sol1 - ydat\n",
    "diff2 = sol2 - ydat\n",
    "diff3 = sol3 - ydat\n",
    "\n",
    "print(diff1)\n",
    "# plot the data\n",
    "plt.figure()\n",
    "plt.scatter(tdat, ydat)\n",
    "plt.plot(tdat, diff1, 'green', label='standard')\n",
    "plt.plot(tdat, diff2, 'blue', label='normal')\n",
    "plt.plot(tdat, diff3, 'black', label='QR')\n",
    "plt.legend() \n",
    "plt.grid(True)\n",
    "plt.xlabel('X')\n",
    "plt.ylabel('Y')\n",
    "plt.show()"
   ]
  }
 ],
 "metadata": {
  "kernelspec": {
   "display_name": "Python 3 (ipykernel)",
   "language": "python",
   "name": "python3"
  },
  "language_info": {
   "codemirror_mode": {
    "name": "ipython",
    "version": 3
   },
   "file_extension": ".py",
   "mimetype": "text/x-python",
   "name": "python",
   "nbconvert_exporter": "python",
   "pygments_lexer": "ipython3",
   "version": "3.12.4"
  }
 },
 "nbformat": 4,
 "nbformat_minor": 5
}
