{
 "cells": [
  {
   "cell_type": "code",
   "execution_count": null,
   "id": "7e5d078b-6fe9-4f4b-b886-40e504713ef9",
   "metadata": {},
   "outputs": [],
   "source": [
    "# Lab03 \n"
   ]
  },
  {
   "cell_type": "code",
   "execution_count": 56,
   "id": "d1ff3c26-2c1b-4e3e-a3e4-bed9b76571d7",
   "metadata": {},
   "outputs": [],
   "source": [
    "import numpy as np \n",
    "import scipy\n",
    "import matplotlib.pyplot as plt \n",
    "from numpy import maximum, finfo, all, flip, arange, min, max, floor, log10, prod, diag, eye\n",
    "from numpy.linalg import cond, eig, norm\n",
    "from scipy.linalg import cholesky, det, inv, LinAlgError \n",
    "from matplotlib.pyplot import semilogy, title, grid \n",
    "from mat2npy import K"
   ]
  },
  {
   "cell_type": "code",
   "execution_count": 3,
   "id": "d8308f0d-3642-4952-b847-fede180b3db1",
   "metadata": {},
   "outputs": [
    {
     "data": {
      "text/plain": [
       "(500, 500)"
      ]
     },
     "execution_count": 3,
     "metadata": {},
     "output_type": "execute_result"
    }
   ],
   "source": [
    "# a\n",
    "K.shape"
   ]
  },
  {
   "cell_type": "code",
   "execution_count": 42,
   "id": "46267dc7-a188-492d-b71a-9db297464230",
   "metadata": {},
   "outputs": [
    {
     "name": "stdout",
     "output_type": "stream",
     "text": [
      "K is symetric\n",
      "K is symetric\n"
     ]
    }
   ],
   "source": [
    "# Cholesky Factorisation exist! \n",
    "R = cholesky(K)\n",
    "\n",
    "# check if K * K.T = K * K\n",
    "P = np.all(abs(K * K.T - K ** 2)< 2.2 * (10 ** -16))\n",
    "\n",
    "# check \n",
    "print(\"K is symetric\") if np.linalg.norm(K - K.T, np.inf) == 0 else print(\"K is not symetric\")\n",
    "\n",
    "# Eigen values - symetric matrix have real e-values\n",
    "evalues, evector = np.linalg.eig(K)\n",
    "evalues.shape\n",
    "\n",
    "for evalue in range(1, 501):\n",
    "    if isinstance(evalue, (int, float)) == False:\n",
    "        print(\"K is not symetric\")\n",
    "        break\n",
    "else:\n",
    "    print(\"K is symetric\")\n",
    "\n"
   ]
  },
  {
   "cell_type": "code",
   "execution_count": 44,
   "id": "6e64ce6d-43a9-457d-8f24-6d37d5b06b35",
   "metadata": {},
   "outputs": [
    {
     "name": "stdout",
     "output_type": "stream",
     "text": [
      "[[ 1.00000000e+00  1.85305046e-02  3.92946826e-02 ...  4.96108555e-01\n",
      "   0.00000000e+00  1.29168449e-03]\n",
      " [ 0.00000000e+00  9.99828295e-01  7.90218524e-01 ...  1.44026764e-01\n",
      "   0.00000000e+00 -2.39396759e-05]\n",
      " [ 0.00000000e+00  0.00000000e+00  6.11564071e-01 ...  2.45812603e-02\n",
      "   1.44183526e-05 -5.20611954e-05]\n",
      " ...\n",
      " [ 0.00000000e+00  0.00000000e+00  0.00000000e+00 ...  3.25243787e-02\n",
      "   5.84745549e-09  4.62690538e-06]\n",
      " [ 0.00000000e+00  0.00000000e+00  0.00000000e+00 ...  0.00000000e+00\n",
      "   2.37398766e-03  1.08242714e-05]\n",
      " [ 0.00000000e+00  0.00000000e+00  0.00000000e+00 ...  0.00000000e+00\n",
      "   0.00000000e+00  5.06922144e-02]]\n"
     ]
    }
   ],
   "source": [
    "# c\n",
    "R = cholesky(K)\n",
    "print(R)"
   ]
  },
  {
   "cell_type": "code",
   "execution_count": 54,
   "id": "1e6b239a-f31a-4ae7-9f82-2779f1654f0d",
   "metadata": {},
   "outputs": [
    {
     "data": {
      "text/plain": [
       "2.81842324470973e-06"
      ]
     },
     "execution_count": 54,
     "metadata": {},
     "output_type": "execute_result"
    },
    {
     "data": {
      "image/png": "[encoded data removed]",
      "text/plain": [
       "<Figure size 640x480 with 1 Axes>"
      ]
     },
     "metadata": {},
     "output_type": "display_data"
    }
   ],
   "source": [
    "# d\n",
    "plt.figure()\n",
    "plt.plot(evalues)\n",
    "max_evalue = np.linalg.norm(evalues, np.inf)\n",
    "min_evalue = np.linalg.norm(evalues, -np.inf)"
   ]
  },
  {
   "cell_type": "code",
   "execution_count": 63,
   "id": "c3537a21-77fa-4425-a39f-6cb8d022db2b",
   "metadata": {},
   "outputs": [
    {
     "name": "stdout",
     "output_type": "stream",
     "text": [
      "The determinants are:\n",
      "\n",
      "for scipy.linalg.det 0.0 for Cholesky factorization 0.0 for eigenvalues 0.0\n"
     ]
    }
   ],
   "source": [
    "# clearly since evalues exist and evectors exist and are positive the determinant must be non-zero!\n",
    "determinant_a = scipy.linalg.det(K)\n",
    "determinant_b = np.prod(np.diag(R)) * 2\n",
    "determinant_c = np.prod(evalues)\n",
    "print(\"The determinants are:\\n\")\n",
    "print(\"for scipy.linalg.det\", determinant_a, \"for Cholesky factorization\", determinant_b, \"for eigenvalues\", determinant_c )\n"
   ]
  },
  {
   "cell_type": "code",
   "execution_count": 122,
   "id": "df407104-f74e-41f5-a738-edd64e426c0f",
   "metadata": {},
   "outputs": [
    {
     "name": "stdout",
     "output_type": "stream",
     "text": [
      "Index 0 and value 1.0 and the differecne 0.0\n",
      "Index 1 and value 0.9999999999999992 and the differecne 7.771561172376096e-16\n",
      "Not all diagonals are 1\n"
     ]
    },
    {
     "ename": "TypeError",
     "evalue": "'numpy.ndarray' object is not callable",
     "output_type": "error",
     "traceback": [
      "\u001b[0;31m---------------------------------------------------------------------------\u001b[0m",
      "\u001b[0;31mTypeError\u001b[0m                                 Traceback (most recent call last)",
      "Cell \u001b[0;32mIn[122], line 12\u001b[0m\n\u001b[1;32m      8\u001b[0m     \u001b[38;5;28mprint\u001b[39m(\u001b[38;5;124m\"\u001b[39m\u001b[38;5;124mAll diagonals are 1\u001b[39m\u001b[38;5;124m\"\u001b[39m)\n\u001b[1;32m     10\u001b[0m \u001b[38;5;66;03m# Method 3\u001b[39;00m\n\u001b[0;32m---> 12\u001b[0m V \u001b[38;5;241m=\u001b[39m diag(K)\n\u001b[1;32m     13\u001b[0m max_diag \u001b[38;5;241m=\u001b[39m norm(V , np\u001b[38;5;241m.\u001b[39minf)\n\u001b[1;32m     14\u001b[0m min_diag \u001b[38;5;241m=\u001b[39m norm(V, \u001b[38;5;241m-\u001b[39mnp\u001b[38;5;241m.\u001b[39minf)\n",
      "\u001b[0;31mTypeError\u001b[0m: 'numpy.ndarray' object is not callable"
     ]
    }
   ],
   "source": [
    "# Method 1 proble : print(f\"Index {index} and value {K[index][index]} and the differecne {abs(K[index][index] - 1)}\") is a flaoting point approximation !\n",
    "for index in range(0, K.shape[0]):\n",
    "    print(f\"Index {index} and value {K[index][index]} and the differecne {abs(K[index][index] - 1)}\")\n",
    "    if abs(K[index][index] - 1) > 2.2e-16:\n",
    "        print(\"Not all diagonals are 1\")  \n",
    "        break\n",
    "else:\n",
    "    print(\"All diagonals are 1\")\n",
    "\n",
    "# Method 3\n",
    "\n",
    "V = diag(K)\n",
    "max_diag = norm(V , np.inf)\n",
    "min_diag = norm(V, -np.inf)\n",
    "print(f\"Max diag {max_diag} and min diag {min_diag}\")"
   ]
  },
  {
   "cell_type": "code",
   "execution_count": 123,
   "id": "329ddf8b-9d87-478c-b994-255cf8ac1807",
   "metadata": {},
   "outputs": [
    {
     "name": "stdout",
     "output_type": "stream",
     "text": [
      "[1. 1.]\n",
      "1.9999999999\n",
      "1.0\n"
     ]
    }
   ],
   "source": [
    "random_array = np.array([[1, 0], [0, 0.9999999999]])\n",
    "diag = np.diag(random_array)\n",
    "print(diag)\n",
    "Q = np.sum(diag)\n",
    "print(Q)\n",
    "# Convert integer 1 to floating-point number\n",
    "float_number = np.float64(1)\n",
    "\n",
    "print(float_number)"
   ]
  }
 ],
 "metadata": {
  "kernelspec": {
   "display_name": "Python 3 (ipykernel)",
   "language": "python",
   "name": "python3"
  },
  "language_info": {
   "codemirror_mode": {
    "name": "ipython",
    "version": 3
   },
   "file_extension": ".py",
   "mimetype": "text/x-python",
   "name": "python",
   "nbconvert_exporter": "python",
   "pygments_lexer": "ipython3",
   "version": "3.11.5"
  }
 },
 "nbformat": 4,
 "nbformat_minor": 5
}
