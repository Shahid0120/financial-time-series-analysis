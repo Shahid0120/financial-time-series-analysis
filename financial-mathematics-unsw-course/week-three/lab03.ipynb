{
 "cells": [
  {
   "cell_type": "code",
   "execution_count": null,
   "id": "2a1b44e3-51dd-4d19-8ba8-b36929ea9ca6",
   "metadata": {},
   "outputs": [],
   "source": [
    "# lab03 "
   ]
  },
  {
   "cell_type": "code",
   "execution_count": 116,
   "id": "f6db9e93-a48f-45ba-a0ee-ac6b8611edbf",
   "metadata": {},
   "outputs": [
    {
     "ename": "ImportError",
     "evalue": "cannot import name 'A' from 'laplace0' (/Users/shahid/Github/MATH3311-financial-mathematics/week_three/laplace0.py)",
     "output_type": "error",
     "traceback": [
      "\u001b[0;31m---------------------------------------------------------------------------\u001b[0m",
      "\u001b[0;31mImportError\u001b[0m                               Traceback (most recent call last)",
      "Cell \u001b[0;32mIn[116], line 13\u001b[0m\n\u001b[1;32m     11\u001b[0m \u001b[38;5;28;01mfrom\u001b[39;00m \u001b[38;5;21;01mmatplotlib\u001b[39;00m\u001b[38;5;21;01m.\u001b[39;00m\u001b[38;5;21;01mpyplot\u001b[39;00m \u001b[38;5;28;01mimport\u001b[39;00m semilogy, title, grid \n\u001b[1;32m     12\u001b[0m \u001b[38;5;28;01mfrom\u001b[39;00m \u001b[38;5;21;01mmat2npy\u001b[39;00m \u001b[38;5;28;01mimport\u001b[39;00m K\n\u001b[0;32m---> 13\u001b[0m \u001b[38;5;28;01mfrom\u001b[39;00m \u001b[38;5;21;01mlaplace0\u001b[39;00m \u001b[38;5;28;01mimport\u001b[39;00m A\n",
      "\u001b[0;31mImportError\u001b[0m: cannot import name 'A' from 'laplace0' (/Users/shahid/Github/MATH3311-financial-mathematics/week_three/laplace0.py)"
     ]
    }
   ],
   "source": [
    "# Question One\n",
    "import numpy as np\n",
    "import scipy\n",
    "import mat2npy\n",
    "import laplace0\n",
    "import matplotlib.pyplot as plt\n",
    "from numpy import maximum, finfo, all, flip, arange, min\n",
    "from numpy import max, floor, log10, prod, diag, eye\n",
    "from numpy.linalg import cond, eig, norm\n",
    "from scipy.linalg import cholesky, det, inv, LinAlgError \n",
    "from matplotlib.pyplot import semilogy, title, grid \n",
    "from mat2npy import K\n"
   ]
  },
  {
   "cell_type": "code",
   "execution_count": 19,
   "id": "7e76178c-55ee-4d61-aaa8-e7a12c4ea6c7",
   "metadata": {},
   "outputs": [
    {
     "data": {
      "text/plain": [
       "(500, 500)"
      ]
     },
     "execution_count": 19,
     "metadata": {},
     "output_type": "execute_result"
    }
   ],
   "source": [
    "# a 500 by 500 yes it is sqaure\n",
    "K.shape"
   ]
  },
  {
   "cell_type": "code",
   "execution_count": 42,
   "id": "402dd415-618a-41fe-ab72-ed54c8bc6665",
   "metadata": {},
   "outputs": [
    {
     "name": "stdout",
     "output_type": "stream",
     "text": [
      "Symmetric\n"
     ]
    }
   ],
   "source": [
    "# b \n",
    "transpose = K.T\n",
    "tol = 10 ** -16 \n",
    "if norm(K - K.T, np.inf) == 0: \n",
    "    print(\"Symmetric\")\n",
    "else:\n",
    "    print(\"Not Symmetric\")\n"
   ]
  },
  {
   "cell_type": "code",
   "execution_count": 27,
   "id": "f57de93e-8daa-438e-98bf-35a31e9a24ed",
   "metadata": {},
   "outputs": [
    {
     "data": {
      "text/plain": [
       "array([[ 1.00000000e+00,  1.85305046e-02,  3.92946826e-02, ...,\n",
       "         4.96108555e-01,  0.00000000e+00,  1.29168449e-03],\n",
       "       [ 0.00000000e+00,  9.99828295e-01,  7.90218524e-01, ...,\n",
       "         1.44026764e-01,  0.00000000e+00, -2.39396759e-05],\n",
       "       [ 0.00000000e+00,  0.00000000e+00,  6.11564071e-01, ...,\n",
       "         2.45812603e-02,  1.44183526e-05, -5.20611954e-05],\n",
       "       ...,\n",
       "       [ 0.00000000e+00,  0.00000000e+00,  0.00000000e+00, ...,\n",
       "         3.25243787e-02,  5.84745549e-09,  4.62690538e-06],\n",
       "       [ 0.00000000e+00,  0.00000000e+00,  0.00000000e+00, ...,\n",
       "         0.00000000e+00,  2.37398766e-03,  1.08242714e-05],\n",
       "       [ 0.00000000e+00,  0.00000000e+00,  0.00000000e+00, ...,\n",
       "         0.00000000e+00,  0.00000000e+00,  5.06922144e-02]])"
      ]
     },
     "execution_count": 27,
     "metadata": {},
     "output_type": "execute_result"
    }
   ],
   "source": [
    "# c - Cholesky Decomposition \n",
    "R = cholesky(K)\n",
    "# Since the cholesky factorisation exist"
   ]
  },
  {
   "cell_type": "code",
   "execution_count": 79,
   "id": "8386ecb2-2b38-45d1-b74e-d7b5c5b8bf16",
   "metadata": {},
   "outputs": [
    {
     "name": "stdout",
     "output_type": "stream",
     "text": [
      "The largest e-value 45.71846627721315 and smallest e-value 2.81842324470973e-06\n"
     ]
    },
    {
     "data": {
      "image/png": "[encoded data removed]",
      "text/plain": [
       "<Figure size 640x480 with 1 Axes>"
      ]
     },
     "metadata": {},
     "output_type": "display_data"
    }
   ],
   "source": [
    "eigenvalues, eigenvectors = np.linalg.eig(K)\n",
    "eigenvalue.shape\n",
    "largest_eigenvalue = norm(eigenvalues, np.inf)\n",
    "smallest_eigenvalue = norm(eigenvalues, -np.inf)\n",
    "print(f\"The largest e-value {largest_eigenvalue} and smallest e-value {smallest_eigenvalue}\")\n",
    "plt.figure()\n",
    "plt.plot(eigenvalues)\n",
    "plt.show()"
   ]
  },
  {
   "cell_type": "code",
   "execution_count": 76,
   "id": "1f7a5539-0f72-4bad-a593-366aadd6c829",
   "metadata": {},
   "outputs": [],
   "source": [
    "# e\n",
    "determinant_one = scipy.linalg.det(K)\n",
    "# why is zero ? Since it is positive definite, so should have det(K) > 0 but comptuer showes underflow approxing 0\n",
    "cholossky = np.prod(diag(R)) ** 2 \n",
    "# cholsky = np.linal\n",
    "eigenvalue = np.prod(eigenvalues)\n",
    "\n"
   ]
  },
  {
   "cell_type": "code",
   "execution_count": 1,
   "id": "3a7c06fa-1d97-4cef-8d2b-de988d9f9c6c",
   "metadata": {},
   "outputs": [
    {
     "ename": "NameError",
     "evalue": "name 'K' is not defined",
     "output_type": "error",
     "traceback": [
      "\u001b[0;31m---------------------------------------------------------------------------\u001b[0m",
      "\u001b[0;31mNameError\u001b[0m                                 Traceback (most recent call last)",
      "Cell \u001b[0;32mIn[1], line 3\u001b[0m\n\u001b[1;32m      1\u001b[0m \u001b[38;5;66;03m# f\u001b[39;00m\n\u001b[1;32m      2\u001b[0m index \u001b[38;5;241m=\u001b[39m \u001b[38;5;241m1\u001b[39m\n\u001b[0;32m----> 3\u001b[0m \u001b[38;5;28;01mwhile\u001b[39;00m index \u001b[38;5;241m<\u001b[39m K\u001b[38;5;241m.\u001b[39mshape[\u001b[38;5;241m0\u001b[39m] \u001b[38;5;241m+\u001b[39m \u001b[38;5;241m1\u001b[39m:\n\u001b[1;32m      4\u001b[0m     \u001b[38;5;28;01mif\u001b[39;00m K[index,index] \u001b[38;5;241m!=\u001b[39m \u001b[38;5;241m1\u001b[39m:\n\u001b[1;32m      5\u001b[0m         \u001b[38;5;28mprint\u001b[39m(\u001b[38;5;124m\"\u001b[39m\u001b[38;5;124mNot all diagonals equal 1\u001b[39m\u001b[38;5;124m\"\u001b[39m)\n",
      "\u001b[0;31mNameError\u001b[0m: name 'K' is not defined"
     ]
    }
   ],
   "source": [
    "# f\n",
    "index = 1\n",
    "while index < K.shape[0] + 1:\n",
    "    if K[index,index] != 1:\n",
    "        print(\"Not all diagonals equal 1\")\n",
    "        break \n",
    "    index += 1\n",
    "\n",
    "# alternative method \n",
    "V = diag(K)\n",
    "\n",
    "norm(V , np.inf)"
   ]
  },
  {
   "cell_type": "code",
   "execution_count": 94,
   "id": "20e110f4-1bb2-4c93-99ce-053dbd3ad6ef",
   "metadata": {},
   "outputs": [
    {
     "name": "stdout",
     "output_type": "stream",
     "text": [
      "max correlation : 0.9999838411368828 and min correlation 0.0\n"
     ]
    }
   ],
   "source": [
    "# since K is a correlation matrix\n",
    "K_bar = K - 1000*numpy.identity(K.shape[0])\n",
    "# intution is because we take out the dignaoal but the minimumer \n",
    "print(f\"max correlation : {K_bar.max()} and min correlation {K.min()}\")\n",
    "# 65% is zero that means this means there is a problem with actually collection method!"
   ]
  },
  {
   "cell_type": "code",
   "execution_count": 108,
   "id": "8b0286f0-8542-452b-9f3a-e26a031658ea",
   "metadata": {},
   "outputs": [
    {
     "data": {
      "text/plain": [
       "1.0"
      ]
     },
     "execution_count": 108,
     "metadata": {},
     "output_type": "execute_result"
    }
   ],
   "source": [
    "K[0,0]\n",
    "non_zero = 0\n",
    "les_zero = 0\n",
    "\n",
    "for row in range(0, K.shape[1]):\n",
    "    for column in range(0, K.shape[1]):\n",
    "        if K[row, column] >= 0:\n",
    "            non_zero += 1\n",
    "        else: \n",
    "            les_zero += 1 \n",
    "\n",
    "percentage = non_zero / (K.shape[0] ** 2)\n"
   ]
  },
  {
   "cell_type": "code",
   "execution_count": 109,
   "id": "8d8996ea-4438-4488-8ba3-c6d00ae66d6a",
   "metadata": {},
   "outputs": [
    {
     "ename": "SyntaxError",
     "evalue": "'(' was never closed (1286340213.py, line 4)",
     "output_type": "error",
     "traceback": [
      "\u001b[0;36m  Cell \u001b[0;32mIn[109], line 4\u001b[0;36m\u001b[0m\n\u001b[0;31m    norm(K - inv_k - numpy.identity(K.shape[0], inf)\u001b[0m\n\u001b[0m        ^\u001b[0m\n\u001b[0;31mSyntaxError\u001b[0m\u001b[0;31m:\u001b[0m '(' was never closed\n"
     ]
    }
   ],
   "source": [
    "# i K should no nonsingular sinze it is positive definite and sqaure matrix positive defnite non singualr matrix\n",
    "inv_K = scipy.linalg.inv(K)\n",
    "# double checking inkK\n",
    "norm(K - inv_K - numpy.identity(K.shape[0], inf)\n",
    "\n",
    "inv_k\n",
    "# So K is non singualar and invese does exist"
   ]
  },
  {
   "cell_type": "code",
   "execution_count": 114,
   "id": "a8bdbaa3-b446-4f85-87ec-ff8831fd8c4f",
   "metadata": {},
   "outputs": [
    {
     "ename": "TypeError",
     "evalue": "tuple indices must be integers or slices, not tuple",
     "output_type": "error",
     "traceback": [
      "\u001b[0;31m---------------------------------------------------------------------------\u001b[0m",
      "\u001b[0;31mTypeError\u001b[0m                                 Traceback (most recent call last)",
      "Cell \u001b[0;32mIn[114], line 3\u001b[0m\n\u001b[1;32m      1\u001b[0m \u001b[38;5;66;03m# Since K is symetric then we can calculate K.T\u001b[39;00m\n\u001b[1;32m      2\u001b[0m \u001b[38;5;66;03m# always avoid comptuing inverse of matirx \u001b[39;00m\n\u001b[0;32m----> 3\u001b[0m a \u001b[38;5;241m=\u001b[39m np\u001b[38;5;241m.\u001b[39mndarray([K\u001b[38;5;241m.\u001b[39mshape[\u001b[38;5;241m0\u001b[39m, \u001b[38;5;241m1\u001b[39m], \u001b[38;5;241m1\u001b[39m]) \u001b[38;5;241m-\u001b[39m np\u001b[38;5;241m.\u001b[39mnorm(K, \u001b[38;5;241m-\u001b[39minf)\n",
      "\u001b[0;31mTypeError\u001b[0m: tuple indices must be integers or slices, not tuple"
     ]
    }
   ],
   "source": [
    "# Since K is symetric then we can calculate K.T\n",
    "# always avoid comptuing inverse of matirx \n",
    "a = np.ndarray([K.shape[0, 1], 1]) - np.norm(K, -inf)"
   ]
  },
  {
   "cell_type": "code",
   "execution_count": 115,
   "id": "d753ab71-a78c-4f93-a492-b3b28c7fe452",
   "metadata": {},
   "outputs": [
    {
     "ename": "NameError",
     "evalue": "name 'A' is not defined",
     "output_type": "error",
     "traceback": [
      "\u001b[0;31m---------------------------------------------------------------------------\u001b[0m",
      "\u001b[0;31mNameError\u001b[0m                                 Traceback (most recent call last)",
      "Cell \u001b[0;32mIn[115], line 1\u001b[0m\n\u001b[0;32m----> 1\u001b[0m A\u001b[38;5;241m.\u001b[39mshape\n",
      "\u001b[0;31mNameError\u001b[0m: name 'A' is not defined"
     ]
    }
   ],
   "source": [
    "A.shape"
   ]
  },
  {
   "cell_type": "code",
   "execution_count": 120,
   "id": "0e80365e-a9c2-45c5-97e6-e2819f7cc3a6",
   "metadata": {},
   "outputs": [],
   "source": [
    "from laplace0 import laplace0\n",
    "from scipy.linalg import cholesky, norm, qr, eigvalsh, LinAlgError, svd, inv, lu \n",
    "from scipy.sparse import eye\n",
    "from numpy import prod\n",
    "from matplotlib.pyplot import subplot, spy, figure, title, semilogy, grid"
   ]
  },
  {
   "cell_type": "code",
   "execution_count": 123,
   "id": "299a7932-d3ff-446c-a140-1d6511b63a13",
   "metadata": {},
   "outputs": [
    {
     "ename": "AttributeError",
     "evalue": "'function' object has no attribute 'shape'",
     "output_type": "error",
     "traceback": [
      "\u001b[0;31m---------------------------------------------------------------------------\u001b[0m",
      "\u001b[0;31mAttributeError\u001b[0m                            Traceback (most recent call last)",
      "Cell \u001b[0;32mIn[123], line 2\u001b[0m\n\u001b[1;32m      1\u001b[0m A \u001b[38;5;241m=\u001b[39m laplace0\n\u001b[0;32m----> 2\u001b[0m A\u001b[38;5;241m.\u001b[39mshape\n",
      "\u001b[0;31mAttributeError\u001b[0m: 'function' object has no attribute 'shape'"
     ]
    }
   ],
   "source": [
    "Diag"
   ]
  }
 ],
 "metadata": {
  "kernelspec": {
   "display_name": "Python 3 (ipykernel)",
   "language": "python",
   "name": "python3"
  },
  "language_info": {
   "codemirror_mode": {
    "name": "ipython",
    "version": 3
   },
   "file_extension": ".py",
   "mimetype": "text/x-python",
   "name": "python",
   "nbconvert_exporter": "python",
   "pygments_lexer": "ipython3",
   "version": "3.11.5"
  }
 },
 "nbformat": 4,
 "nbformat_minor": 5
}
